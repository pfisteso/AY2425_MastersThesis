{
 "cells": [
  {
   "cell_type": "markdown",
   "source": [
    "# Master's Thesis Experiments Report"
   ],
   "metadata": {
    "collapsed": false
   },
   "id": "60874c9d5a314cdb"
  },
  {
   "cell_type": "code",
   "id": "initial_id",
   "metadata": {
    "collapsed": true,
    "ExecuteTime": {
     "end_time": "2025-04-10T10:19:35.862606800Z",
     "start_time": "2025-04-10T10:19:35.830874700Z"
    }
   },
   "source": [
    "import os\n",
    "import numpy as np\n",
    "import pandas as pd\n",
    "from matplotlib import pyplot as plt\n",
    "from scripts.utils import load_latency_data, load_packet_data, clean_latency_data"
   ],
   "outputs": [],
   "execution_count": 77
  },
  {
   "cell_type": "code",
   "source": [
    "# constants\n",
    "LAST_FRAME = 526\n",
    "FIG_DIR = './figures/{}'"
   ],
   "metadata": {
    "collapsed": false,
    "ExecuteTime": {
     "end_time": "2025-04-10T10:19:35.910052600Z",
     "start_time": "2025-04-10T10:19:35.846698200Z"
    }
   },
   "id": "81d2196f215380c6",
   "outputs": [],
   "execution_count": 78
  },
  {
   "cell_type": "markdown",
   "source": [
    "## 1.   Pipeline Latency\n",
    "The data was replayed at 8 Mbps.\n",
    "For each frame f, we measure the timedelta between the last emitted LiDAR data packet and\n",
    "the last incoming Palicus data packet containing data associated with f.\n",
    "We exclude the first and the last frame to ensure that we only consider the latency of full frames."
   ],
   "metadata": {
    "collapsed": false
   },
   "id": "7735df7de6c8bb2f"
  },
  {
   "cell_type": "code",
   "source": [
    "fig_dir = FIG_DIR.format('latency')\n",
    "if not os.path.exists(fig_dir):\n",
    "    os.makedirs(fig_dir)"
   ],
   "metadata": {
    "collapsed": false,
    "ExecuteTime": {
     "end_time": "2025-04-10T10:19:35.910052600Z",
     "start_time": "2025-04-10T10:19:35.862606800Z"
    }
   },
   "id": "45e382a0e3d6ab82",
   "outputs": [],
   "execution_count": 79
  },
  {
   "cell_type": "code",
   "source": [
    "# Load the data\n",
    "df_conversion = load_latency_data(max_frame=LAST_FRAME - 1)\n",
    "df_roi = load_latency_data(pipeline='roi', max_frame=LAST_FRAME - 1)\n",
    "df_dm1 = load_latency_data(pipeline='dm1', max_frame=LAST_FRAME - 1)\n",
    "df_dm2 = load_latency_data(pipeline='dm2', max_frame=LAST_FRAME - 1)\n",
    "df_bev = load_latency_data(pipeline='bev', max_frame=LAST_FRAME - 1)\n",
    "df_max = load_latency_data(pipeline='max', max_frame=LAST_FRAME - 1)"
   ],
   "metadata": {
    "collapsed": false,
    "ExecuteTime": {
     "end_time": "2025-04-10T10:19:35.912760500Z",
     "start_time": "2025-04-10T10:19:35.880257200Z"
    }
   },
   "id": "156ddd31632e48ba",
   "outputs": [],
   "execution_count": 80
  },
  {
   "cell_type": "code",
   "execution_count": 81,
   "outputs": [
    {
     "name": "stdout",
     "output_type": "stream",
     "text": [
      "               CONV       RoI    DM (1)    DM (2)        BEV         MAX\n",
      "0     min  0.180000  0.174000  0.178000  0.176000  46.422000  141.214000\n",
      "1    mean  0.296084  0.292099  0.295198  0.301033  47.394837  234.022512\n",
      "2  median  0.293000  0.292000  0.299000  0.304500  47.702000  234.813000\n",
      "3     max  0.577000  0.529000  0.515000  0.513000  48.073000  236.362000\n"
     ]
    }
   ],
   "source": [
    "# tabular representation\n",
    "l = 'latency [ms]'\n",
    "# only consider frames if their latency is within (mean - 2*sd, mean + 2 * sd)\n",
    "df_conv_clean = clean_latency_data(df_conversion)\n",
    "df_roi_clean = clean_latency_data(df_roi)\n",
    "df_dm1_clean = clean_latency_data(df_dm1)\n",
    "df_dm2_clean = clean_latency_data(df_dm2)\n",
    "df_bev_clean = clean_latency_data(df_bev)\n",
    "df_max_clean = clean_latency_data(df_max)\n",
    "\n",
    "results = [['min', df_conv_clean.min()[l], df_roi_clean.min()[l], df_dm1_clean.min()[l], df_dm2_clean.min()[l], df_bev_clean.min()[l], df_max_clean.min()[l]],\n",
    "           ['mean', df_conv_clean.mean()[l], df_roi_clean.mean()[l], df_dm1_clean.mean()[l], df_dm2_clean.mean()[l], df_bev_clean.mean()[l], df_max_clean.mean()[l]],\n",
    "           ['median', df_conv_clean.median()[l], df_roi_clean.median()[l], df_dm1_clean.median()[l], df_dm2_clean.median()[l], df_bev_clean.median()[l], df_max_clean.median()[l]],\n",
    "           ['max', df_conv_clean.max()[l], df_roi_clean.max()[l], df_dm1_clean.max()[l], df_dm2_clean.max()[l], df_bev_clean.max()[l], df_max_clean.max()[l]]\n",
    "           ]\n",
    "\n",
    "df_latency_results = pd.DataFrame(results, columns=['', 'CONV', 'RoI', 'DM (1)', 'DM (2)', 'BEV', 'MAX'])\n",
    "print(df_latency_results)\n"
   ],
   "metadata": {
    "collapsed": false,
    "ExecuteTime": {
     "end_time": "2025-04-10T10:19:35.925702200Z",
     "start_time": "2025-04-10T10:19:35.896108200Z"
    }
   },
   "id": "7b266cd23e0d8087"
  },
  {
   "cell_type": "code",
   "source": [
    "# computation time: conversion vs. RoI vs. DepthMap\n",
    "fig, ax = plt.subplots()\n",
    "ax.boxplot(df_conversion['latency [ms]'].to_numpy(), positions=[2], widths=[1],\n",
    "           patch_artist=True, showmeans=True, showfliers=True, labels=['CONV'])\n",
    "ax.boxplot(df_roi['latency [ms]'].to_numpy(), positions=[4], widths=[1],\n",
    "           patch_artist=True, showmeans=True, showfliers=True, labels=['RoI'])\n",
    "ax.boxplot(df_dm1['latency [ms]'].to_numpy(), positions=[6], widths=[1],\n",
    "           patch_artist=True, showmeans=True, showfliers=True, labels=['DM (1)'])\n",
    "ax.boxplot(df_dm2['latency [ms]'].to_numpy(), positions=[8], widths=[1],\n",
    "           patch_artist=True, showmeans=True, showfliers=True, labels=['DM (2)'])\n",
    "ax.set(xlim=(0, 10))\n",
    "ax.set(ylim=(0, 2), yticks=[i / 10 for i in range(21)], ylabel='Latency [ms]')\n",
    "plt.show()\n",
    "fig.savefig(os.path.join(fig_dir, 'conv_roi_dm.png'))"
   ],
   "metadata": {
    "collapsed": false,
    "ExecuteTime": {
     "end_time": "2025-04-10T10:19:36.087902700Z",
     "start_time": "2025-04-10T10:19:35.936219100Z"
    }
   },
   "id": "301099a43661c737",
   "outputs": [
    {
     "name": "stderr",
     "output_type": "stream",
     "text": [
      "C:\\Users\\sophi\\AppData\\Local\\Temp\\ipykernel_10688\\3051513321.py:3: MatplotlibDeprecationWarning: The 'labels' parameter of boxplot() has been renamed 'tick_labels' since Matplotlib 3.9; support for the old name will be dropped in 3.11.\n",
      "  ax.boxplot(df_conversion['latency [ms]'].to_numpy(), positions=[2], widths=[1],\n",
      "C:\\Users\\sophi\\AppData\\Local\\Temp\\ipykernel_10688\\3051513321.py:5: MatplotlibDeprecationWarning: The 'labels' parameter of boxplot() has been renamed 'tick_labels' since Matplotlib 3.9; support for the old name will be dropped in 3.11.\n",
      "  ax.boxplot(df_roi['latency [ms]'].to_numpy(), positions=[4], widths=[1],\n",
      "C:\\Users\\sophi\\AppData\\Local\\Temp\\ipykernel_10688\\3051513321.py:7: MatplotlibDeprecationWarning: The 'labels' parameter of boxplot() has been renamed 'tick_labels' since Matplotlib 3.9; support for the old name will be dropped in 3.11.\n",
      "  ax.boxplot(df_dm1['latency [ms]'].to_numpy(), positions=[6], widths=[1],\n",
      "C:\\Users\\sophi\\AppData\\Local\\Temp\\ipykernel_10688\\3051513321.py:9: MatplotlibDeprecationWarning: The 'labels' parameter of boxplot() has been renamed 'tick_labels' since Matplotlib 3.9; support for the old name will be dropped in 3.11.\n",
      "  ax.boxplot(df_dm2['latency [ms]'].to_numpy(), positions=[8], widths=[1],\n"
     ]
    },
    {
     "data": {
      "text/plain": "<Figure size 640x480 with 1 Axes>",
      "image/png": "[encoded data removed]"
     },
     "metadata": {},
     "output_type": "display_data"
    }
   ],
   "execution_count": 82
  },
  {
   "cell_type": "code",
   "source": [
    "# computation time: conversion vs. RoI vs. DepthMap\n",
    "df_conversion['CONV'] = df_conversion['latency [ms]'] * 1000\n",
    "df_roi['RoI'] = df_roi['latency [ms]'] * 1000\n",
    "df_dm1['DM (1)'] = df_dm1['latency [ms]'] * 1000\n",
    "df_dm2['DM (2)'] = df_dm2['latency [ms]'] * 1000\n",
    "\n",
    "\n",
    "fig, ax = plt.subplots()\n",
    "ax.boxplot(df_conversion['CONV'].to_numpy(), positions=[2], widths=[1],\n",
    "           patch_artist=True, showmeans=False, showfliers=False, labels=['CONV'])\n",
    "ax.boxplot(df_roi['RoI'].to_numpy(), positions=[4], widths=[1],\n",
    "           patch_artist=True, showmeans=False, showfliers=False, labels=['RoI'])\n",
    "ax.boxplot(df_dm1['DM (1)'].to_numpy(), positions=[6], widths=[1],\n",
    "           patch_artist=True, showmeans=False, showfliers=False, labels=['DM (1)'])\n",
    "ax.boxplot(df_dm2['DM (2)'].to_numpy(), positions=[8], widths=[1],\n",
    "           patch_artist=True, showmeans=False, showfliers=False, labels=['DM (2)'])\n",
    "ax.set(xlim=(0, 10))\n",
    "ax.set(ylim=(250, 400), yticks=[250 + i * 50 for i in range(4)], ylabel='Latency [us]')\n",
    "plt.show()\n",
    "fig.savefig(os.path.join(fig_dir, 'conv_roi_dm_no_outliers.png'))"
   ],
   "metadata": {
    "collapsed": false,
    "ExecuteTime": {
     "end_time": "2025-04-10T10:19:36.219562400Z",
     "start_time": "2025-04-10T10:19:36.155538900Z"
    }
   },
   "id": "2c1510cfa56a574d",
   "outputs": [
    {
     "name": "stderr",
     "output_type": "stream",
     "text": [
      "C:\\Users\\sophi\\AppData\\Local\\Temp\\ipykernel_10688\\2688206651.py:9: MatplotlibDeprecationWarning: The 'labels' parameter of boxplot() has been renamed 'tick_labels' since Matplotlib 3.9; support for the old name will be dropped in 3.11.\n",
      "  ax.boxplot(df_conversion['CONV'].to_numpy(), positions=[2], widths=[1],\n",
      "C:\\Users\\sophi\\AppData\\Local\\Temp\\ipykernel_10688\\2688206651.py:11: MatplotlibDeprecationWarning: The 'labels' parameter of boxplot() has been renamed 'tick_labels' since Matplotlib 3.9; support for the old name will be dropped in 3.11.\n",
      "  ax.boxplot(df_roi['RoI'].to_numpy(), positions=[4], widths=[1],\n",
      "C:\\Users\\sophi\\AppData\\Local\\Temp\\ipykernel_10688\\2688206651.py:13: MatplotlibDeprecationWarning: The 'labels' parameter of boxplot() has been renamed 'tick_labels' since Matplotlib 3.9; support for the old name will be dropped in 3.11.\n",
      "  ax.boxplot(df_dm1['DM (1)'].to_numpy(), positions=[6], widths=[1],\n",
      "C:\\Users\\sophi\\AppData\\Local\\Temp\\ipykernel_10688\\2688206651.py:15: MatplotlibDeprecationWarning: The 'labels' parameter of boxplot() has been renamed 'tick_labels' since Matplotlib 3.9; support for the old name will be dropped in 3.11.\n",
      "  ax.boxplot(df_dm2['DM (2)'].to_numpy(), positions=[8], widths=[1],\n"
     ]
    },
    {
     "data": {
      "text/plain": "<Figure size 640x480 with 1 Axes>",
      "image/png": "[encoded data removed]"
     },
     "metadata": {},
     "output_type": "display_data"
    }
   ],
   "execution_count": 83
  },
  {
   "cell_type": "markdown",
   "source": [],
   "metadata": {
    "collapsed": false
   },
   "id": "c7f8a3234ddb78c3"
  },
  {
   "cell_type": "code",
   "source": [
    "# computation time: BEV vs. MAX\n",
    "fig, ax = plt.subplots()\n",
    "ax.boxplot(df_bev['latency [ms]'].to_numpy(), positions=[2], widths=[1],\n",
    "           patch_artist=True, showmeans=False, showfliers=True, labels=['BEV'])\n",
    "ax.boxplot(df_max['latency [ms]'].to_numpy(), positions=[4], widths=[1],\n",
    "           patch_artist=True, showmeans=False, showfliers=True, labels=['MAX'])\n",
    "ax.set(xlim=(0, 6))\n",
    "ax.set(ylabel='Latency [ms]')\n",
    "plt.show()\n",
    "fig.savefig(os.path.join(fig_dir, 'bev_max.png'))"
   ],
   "metadata": {
    "collapsed": false,
    "ExecuteTime": {
     "end_time": "2025-04-10T10:19:36.298322600Z",
     "start_time": "2025-04-10T10:19:36.219562400Z"
    }
   },
   "id": "435cf8911897609c",
   "outputs": [
    {
     "name": "stderr",
     "output_type": "stream",
     "text": [
      "C:\\Users\\sophi\\AppData\\Local\\Temp\\ipykernel_10688\\1225436860.py:3: MatplotlibDeprecationWarning: The 'labels' parameter of boxplot() has been renamed 'tick_labels' since Matplotlib 3.9; support for the old name will be dropped in 3.11.\n",
      "  ax.boxplot(df_bev['latency [ms]'].to_numpy(), positions=[2], widths=[1],\n",
      "C:\\Users\\sophi\\AppData\\Local\\Temp\\ipykernel_10688\\1225436860.py:5: MatplotlibDeprecationWarning: The 'labels' parameter of boxplot() has been renamed 'tick_labels' since Matplotlib 3.9; support for the old name will be dropped in 3.11.\n",
      "  ax.boxplot(df_max['latency [ms]'].to_numpy(), positions=[4], widths=[1],\n"
     ]
    },
    {
     "data": {
      "text/plain": "<Figure size 640x480 with 1 Axes>",
      "image/png": "[encoded data removed]"
     },
     "metadata": {},
     "output_type": "display_data"
    }
   ],
   "execution_count": 84
  },
  {
   "cell_type": "markdown",
   "source": [
    "### Latency Impact of PEs"
   ],
   "metadata": {
    "collapsed": false
   },
   "id": "55c0904025687ba1"
  },
  {
   "cell_type": "code",
   "execution_count": 85,
   "outputs": [
    {
     "name": "stderr",
     "output_type": "stream",
     "text": [
      "C:\\Users\\sophi\\AppData\\Local\\Temp\\ipykernel_10688\\2702650213.py:21: MatplotlibDeprecationWarning: The 'labels' parameter of boxplot() has been renamed 'tick_labels' since Matplotlib 3.9; support for the old name will be dropped in 3.11.\n",
      "  ax.boxplot(df_compare_fpe['diff'].to_numpy(), positions=[2], widths=[1],\n",
      "C:\\Users\\sophi\\AppData\\Local\\Temp\\ipykernel_10688\\2702650213.py:23: MatplotlibDeprecationWarning: The 'labels' parameter of boxplot() has been renamed 'tick_labels' since Matplotlib 3.9; support for the old name will be dropped in 3.11.\n",
      "  ax.boxplot(df_compare_arpe['diff'].to_numpy(), positions=[4], widths=[1],\n"
     ]
    },
    {
     "data": {
      "text/plain": "<Figure size 640x480 with 1 Axes>",
      "image/png": "[encoded data removed]"
     },
     "metadata": {},
     "output_type": "display_data"
    }
   ],
   "source": [
    "# FPE\n",
    "df_compare_fpe = pd.concat([df_conversion.loc[:, 'CONV'],\n",
    "                        df_roi.loc[:, 'RoI']], axis=1)\n",
    "df_compare_fpe['diff'] = df_compare_fpe['RoI'] - df_compare_fpe['CONV']\n",
    "\n",
    "# ArPE\n",
    "df_compare_1 = pd.concat([df_roi.loc[:, 'RoI'],\n",
    "                        df_dm1.loc[:, 'DM (1)']], axis=1)\n",
    "df_compare_1['diff'] = df_compare_1['DM (1)'] - df_compare_1['RoI']\n",
    "df_compare_1 = df_compare_1.loc[:, 'diff']\n",
    "\n",
    "df_compare_2 = pd.concat([df_dm1.loc[:, 'DM (1)'],\n",
    "                        df_dm2.loc[:, 'DM (2)']], axis=1)\n",
    "df_compare_2['diff'] = df_compare_2['DM (2)'] - df_compare_2['DM (1)']\n",
    "df_compare_2 = df_compare_2.loc[:, 'diff']\n",
    "\n",
    "df_compare_arpe = pd.DataFrame(pd.concat([df_compare_1, df_compare_2.rename('diff')], axis=0))\n",
    "\n",
    "\n",
    "fig, ax = plt.subplots()\n",
    "ax.boxplot(df_compare_fpe['diff'].to_numpy(), positions=[2], widths=[1],\n",
    "           patch_artist=True, showmeans=False, showfliers=False, labels=['FPE'])\n",
    "ax.boxplot(df_compare_arpe['diff'].to_numpy(), positions=[4], widths=[1],\n",
    "           patch_artist=True, showmeans=False, showfliers=False, labels=['ArPE'])\n",
    "ax.set(xlim=(0, 6))\n",
    "plt.show()"
   ],
   "metadata": {
    "collapsed": false,
    "ExecuteTime": {
     "end_time": "2025-04-10T10:19:36.360542300Z",
     "start_time": "2025-04-10T10:19:36.301980400Z"
    }
   },
   "id": "8471fc8488a6d61c"
  },
  {
   "cell_type": "markdown",
   "source": [],
   "metadata": {
    "collapsed": false
   },
   "id": "3aed11c201b6471b"
  },
  {
   "cell_type": "code",
   "execution_count": 86,
   "outputs": [
    {
     "name": "stderr",
     "output_type": "stream",
     "text": [
      "C:\\Users\\sophi\\AppData\\Local\\Temp\\ipykernel_10688\\1360899250.py:7: MatplotlibDeprecationWarning: The 'labels' parameter of boxplot() has been renamed 'tick_labels' since Matplotlib 3.9; support for the old name will be dropped in 3.11.\n",
      "  ax.boxplot(df_compare_aggpe['diff'].to_numpy(), positions=[2], widths=[1],\n"
     ]
    },
    {
     "data": {
      "text/plain": "<Figure size 640x480 with 1 Axes>",
      "image/png": "[encoded data removed]"
     },
     "metadata": {},
     "output_type": "display_data"
    }
   ],
   "source": [
    "# AggPE\n",
    "df_compare_aggpe = pd.concat([df_dm2.loc[:, 'latency [ms]'].rename('DM'),\n",
    "                        df_bev.loc[:, 'latency [ms]'].rename('BEV')], axis=1)\n",
    "df_compare_aggpe['diff'] = df_compare_aggpe['BEV'] - df_compare_aggpe['DM']\n",
    "\n",
    "fig, ax = plt.subplots()\n",
    "ax.boxplot(df_compare_aggpe['diff'].to_numpy(), positions=[2], widths=[1],\n",
    "           patch_artist=True, showmeans=False, showfliers=False, labels=['AggE'])\n",
    "ax.set(xlim=(0, 4))\n",
    "plt.show()"
   ],
   "metadata": {
    "collapsed": false,
    "ExecuteTime": {
     "end_time": "2025-04-10T10:19:36.439640100Z",
     "start_time": "2025-04-10T10:19:36.360542300Z"
    }
   },
   "id": "d357403a64db8987"
  },
  {
   "cell_type": "code",
   "execution_count": 87,
   "outputs": [],
   "source": [
    "df_compare_aggpe = clean_latency_data(df_compare_aggpe, col='diff', factor=2)\n"
   ],
   "metadata": {
    "collapsed": false,
    "ExecuteTime": {
     "end_time": "2025-04-10T10:19:36.439640100Z",
     "start_time": "2025-04-10T10:19:36.423758700Z"
    }
   },
   "id": "3d7f3fb03e39ed4e"
  },
  {
   "cell_type": "code",
   "execution_count": 88,
   "outputs": [
    {
     "name": "stdout",
     "output_type": "stream",
     "text": [
      "                      FPE          ArPE                        AggPE\n",
      "0    Span  [-0.221,0.216]  [-0.06,0.07]  [46.022,47.852000000000004]\n",
      "1    Mean       -0.002598      0.003724                    47.000196\n",
      "2  Median             0.0         0.004                      47.3875\n"
     ]
    }
   ],
   "source": [
    "# crop sample to [mean - 2*sd, mean + 2*sd]\n",
    "df_compare_fpe = clean_latency_data(df_compare_fpe, col='diff', factor=2)\n",
    "df_compare_arpe = clean_latency_data(df_compare_arpe, col='diff', factor=2)\n",
    "df_compare_aggpe = clean_latency_data(df_compare_aggpe, col='diff', factor=2)\n",
    "\n",
    "# scale to ms\n",
    "df_compare_fpe['diff'] /= 1000\n",
    "df_compare_arpe['diff'] /= 1000\n",
    "\n",
    "res_table = [['Span', '[{},{}]'.format(str(df_compare_fpe.min()['diff']), str(df_compare_fpe.max()['diff'])), \n",
    "              '[{},{}]'.format(str(df_compare_arpe.min()['diff']), str(df_compare_arpe.max()['diff'])),\n",
    "              '[{},{}]'.format(str(df_compare_aggpe.min()['diff']), str(df_compare_aggpe.max()['diff']))],\n",
    "             ['Mean', df_compare_fpe.mean()['diff'], df_compare_arpe.mean()['diff'], df_compare_aggpe.mean()['diff']],\n",
    "             ['Median', df_compare_fpe.median()['diff'], df_compare_arpe.median()['diff'], df_compare_aggpe.median()['diff']]\n",
    "             ]\n",
    "\n",
    "\n",
    "df_res = pd.DataFrame(res_table, columns=['', 'FPE', 'ArPE', 'AggPE'])\n",
    "print(df_res)\n"
   ],
   "metadata": {
    "collapsed": false,
    "ExecuteTime": {
     "end_time": "2025-04-10T10:19:36.455703400Z",
     "start_time": "2025-04-10T10:19:36.439640100Z"
    }
   },
   "id": "1abce3678ca3a3e"
  },
  {
   "cell_type": "markdown",
   "source": [
    "## 2. Point Rate"
   ],
   "metadata": {
    "collapsed": false
   },
   "id": "1c05a82334dc02ab"
  },
  {
   "cell_type": "code",
   "source": [
    "# Conversion\n",
    "total_pkt = []\n",
    "for p in ['conversion', 'roi', 'dm1', 'dm2', 'bev', 'max']:\n",
    "    log = [p]\n",
    "    for t in ['8Mbps', '128Mbps']:\n",
    "        df = load_packet_data(throughput=t, pipeline=p, max_frame=LAST_FRAME-1)\n",
    "        packet_count = len(df)\n",
    "        log.append(packet_count)\n",
    "    total_pkt.append(log)\n",
    "\n",
    "df_res = pd.DataFrame(total_pkt, columns=['pipeline', '8Mbps', '128Mbps'])\n",
    "df_res['difference'] = df_res.apply(lambda row: int(row['8Mbps']) - int(row['128Mbps']), axis=1)\n",
    "\n",
    "print(df_res.head(10))"
   ],
   "metadata": {
    "collapsed": false,
    "ExecuteTime": {
     "end_time": "2025-04-10T10:19:36.518969400Z",
     "start_time": "2025-04-10T10:19:36.455703400Z"
    }
   },
   "id": "178e2dc0ba1c6b23",
   "outputs": [
    {
     "ename": "AssertionError",
     "evalue": "invalid file path: ./data\\conversion\\8Mbps\\palicus.csv",
     "output_type": "error",
     "traceback": [
      "\u001B[1;31m---------------------------------------------------------------------------\u001B[0m",
      "\u001B[1;31mAssertionError\u001B[0m                            Traceback (most recent call last)",
      "Cell \u001B[1;32mIn[89], line 6\u001B[0m\n\u001B[0;32m      4\u001B[0m log \u001B[38;5;241m=\u001B[39m [p]\n\u001B[0;32m      5\u001B[0m \u001B[38;5;28;01mfor\u001B[39;00m t \u001B[38;5;129;01min\u001B[39;00m [\u001B[38;5;124m'\u001B[39m\u001B[38;5;124m8Mbps\u001B[39m\u001B[38;5;124m'\u001B[39m, \u001B[38;5;124m'\u001B[39m\u001B[38;5;124m128Mbps\u001B[39m\u001B[38;5;124m'\u001B[39m]:\n\u001B[1;32m----> 6\u001B[0m     df \u001B[38;5;241m=\u001B[39m \u001B[43mload_packet_data\u001B[49m\u001B[43m(\u001B[49m\u001B[43mthroughput\u001B[49m\u001B[38;5;241;43m=\u001B[39;49m\u001B[43mt\u001B[49m\u001B[43m,\u001B[49m\u001B[43m \u001B[49m\u001B[43mpipeline\u001B[49m\u001B[38;5;241;43m=\u001B[39;49m\u001B[43mp\u001B[49m\u001B[43m,\u001B[49m\u001B[43m \u001B[49m\u001B[43mmax_frame\u001B[49m\u001B[38;5;241;43m=\u001B[39;49m\u001B[43mLAST_FRAME\u001B[49m\u001B[38;5;241;43m-\u001B[39;49m\u001B[38;5;241;43m1\u001B[39;49m\u001B[43m)\u001B[49m\n\u001B[0;32m      7\u001B[0m     packet_count \u001B[38;5;241m=\u001B[39m \u001B[38;5;28mlen\u001B[39m(df)\n\u001B[0;32m      8\u001B[0m     log\u001B[38;5;241m.\u001B[39mappend(packet_count)\n",
      "File \u001B[1;32m~\\GitRepos\\AY2425_MastersThesis\\experiments\\scripts\\utils\\load_data.py:16\u001B[0m, in \u001B[0;36mload_packet_data\u001B[1;34m(throughput, pipeline, max_frame)\u001B[0m\n\u001B[0;32m     14\u001B[0m \u001B[38;5;28;01mdef\u001B[39;00m\u001B[38;5;250m \u001B[39m\u001B[38;5;21mload_packet_data\u001B[39m(throughput: \u001B[38;5;28mstr\u001B[39m \u001B[38;5;241m=\u001B[39m \u001B[38;5;124m'\u001B[39m\u001B[38;5;124m8Mbps\u001B[39m\u001B[38;5;124m'\u001B[39m, pipeline: \u001B[38;5;28mstr\u001B[39m \u001B[38;5;241m=\u001B[39m \u001B[38;5;124m'\u001B[39m\u001B[38;5;124mconversion\u001B[39m\u001B[38;5;124m'\u001B[39m, max_frame: \u001B[38;5;28mint\u001B[39m \u001B[38;5;241m=\u001B[39m \u001B[38;5;241m525\u001B[39m) \u001B[38;5;241m-\u001B[39m\u001B[38;5;241m>\u001B[39m pd\u001B[38;5;241m.\u001B[39mDataFrame:\n\u001B[0;32m     15\u001B[0m     filepath \u001B[38;5;241m=\u001B[39m os\u001B[38;5;241m.\u001B[39mpath\u001B[38;5;241m.\u001B[39mjoin(\u001B[38;5;124m'\u001B[39m\u001B[38;5;124m./data\u001B[39m\u001B[38;5;124m'\u001B[39m, pipeline, throughput, \u001B[38;5;124m'\u001B[39m\u001B[38;5;124mpalicus.csv\u001B[39m\u001B[38;5;124m'\u001B[39m)\n\u001B[1;32m---> 16\u001B[0m     \u001B[38;5;28;01massert\u001B[39;00m os\u001B[38;5;241m.\u001B[39mpath\u001B[38;5;241m.\u001B[39mexists(filepath), \u001B[38;5;124m'\u001B[39m\u001B[38;5;124minvalid file path: \u001B[39m\u001B[38;5;132;01m{}\u001B[39;00m\u001B[38;5;124m'\u001B[39m\u001B[38;5;241m.\u001B[39mformat(filepath)\n\u001B[0;32m     17\u001B[0m     res \u001B[38;5;241m=\u001B[39m pd\u001B[38;5;241m.\u001B[39mread_csv(filepath)\n\u001B[0;32m     18\u001B[0m     res \u001B[38;5;241m=\u001B[39m res\u001B[38;5;241m.\u001B[39mloc[res[\u001B[38;5;124m'\u001B[39m\u001B[38;5;124mframe_nr\u001B[39m\u001B[38;5;124m'\u001B[39m] \u001B[38;5;241m>\u001B[39m \u001B[38;5;241m0\u001B[39m]\n",
      "\u001B[1;31mAssertionError\u001B[0m: invalid file path: ./data\\conversion\\8Mbps\\palicus.csv"
     ]
    }
   ],
   "execution_count": 89
  }
 ],
 "metadata": {
  "kernelspec": {
   "display_name": "Python 3",
   "language": "python",
   "name": "python3"
  },
  "language_info": {
   "codemirror_mode": {
    "name": "ipython",
    "version": 2
   },
   "file_extension": ".py",
   "mimetype": "text/x-python",
   "name": "python",
   "nbconvert_exporter": "python",
   "pygments_lexer": "ipython2",
   "version": "2.7.6"
  }
 },
 "nbformat": 4,
 "nbformat_minor": 5
}
