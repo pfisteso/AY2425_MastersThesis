{
 "cells": [
  {
   "cell_type": "markdown",
   "source": [
    "# Master's Thesis Experiments Report"
   ],
   "metadata": {
    "collapsed": false
   },
   "id": "60874c9d5a314cdb"
  },
  {
   "cell_type": "code",
   "id": "initial_id",
   "metadata": {
    "collapsed": true,
    "ExecuteTime": {
     "end_time": "2025-05-07T11:27:38.183608Z",
     "start_time": "2025-05-07T11:27:38.180785Z"
    }
   },
   "source": [
    "import os\n",
    "import numpy as np\n",
    "import pandas as pd\n",
    "from matplotlib import pyplot as plt\n",
    "from PIL import Image, ImageChops\n",
    "\n",
    "from scripts.utils import load_latency_data, load_frame_size_data, clean_latency_data, load_precision_data"
   ],
   "outputs": [],
   "execution_count": 18
  },
  {
   "cell_type": "code",
   "source": [
    "# constants\n",
    "FIG_DIR = './figures/{}'\n",
    "OUT_DIR = './data/out'\n",
    "if not os.path.exists(OUT_DIR):\n",
    "    os.makedirs(OUT_DIR)"
   ],
   "metadata": {
    "collapsed": false,
    "ExecuteTime": {
     "end_time": "2025-05-07T11:27:38.218500Z",
     "start_time": "2025-05-07T11:27:38.216373Z"
    }
   },
   "id": "81d2196f215380c6",
   "outputs": [],
   "execution_count": 19
  },
  {
   "cell_type": "markdown",
   "source": [
    "## 1.   Pipeline Latency\n",
    "The data was replayed at 8 Mbps.\n",
    "For each frame f, we measure the timedelta between the last emitted LiDAR data packet and\n",
    "the last incoming Palicus data packet containing data associated with f.\n",
    "We exclude the first and the last frame to ensure that we only consider the latency of full frames."
   ],
   "metadata": {
    "collapsed": false
   },
   "id": "7735df7de6c8bb2f"
  },
  {
   "cell_type": "code",
   "source": [
    "fig_dir = FIG_DIR.format('latency')\n",
    "if not os.path.exists(fig_dir):\n",
    "    os.makedirs(fig_dir)"
   ],
   "metadata": {
    "collapsed": false,
    "ExecuteTime": {
     "end_time": "2025-05-07T11:27:38.286091Z",
     "start_time": "2025-05-07T11:27:38.283945Z"
    }
   },
   "id": "45e382a0e3d6ab82",
   "outputs": [],
   "execution_count": 20
  },
  {
   "cell_type": "code",
   "source": [
    "# Load the data\n",
    "df_conversion = load_latency_data(pipeline='conversion')\n",
    "df_roi = load_latency_data(pipeline='roi')\n",
    "df_dm1 = load_latency_data(pipeline='dm1')\n",
    "df_dm2 = load_latency_data(pipeline='dm2')\n",
    "df_bev = load_latency_data(pipeline='bev')"
   ],
   "metadata": {
    "collapsed": false,
    "ExecuteTime": {
     "end_time": "2025-05-07T11:27:38.358826Z",
     "start_time": "2025-05-07T11:27:38.352217Z"
    }
   },
   "id": "156ddd31632e48ba",
   "outputs": [],
   "execution_count": 21
  },
  {
   "cell_type": "code",
   "source": [
    "# tabular representation\n",
    "l = 'latency [ms]'\n",
    "\n",
    "results = [['min', df_conversion.min()[l], df_roi.min()[l], df_dm1.min()[l], df_dm2.min()[l], df_bev.min()[l]],\n",
    "           ['mean', df_conversion.mean()[l], df_roi.mean()[l], df_dm1.mean()[l], df_dm2.mean()[l], df_bev.mean()[l]],\n",
    "           ['median', df_conversion.median()[l], df_roi.median()[l], df_dm1.median()[l], df_dm2.median()[l],\n",
    "            df_bev.median()[l]],\n",
    "           ['max', df_conversion.max()[l], df_roi.max()[l], df_dm1.max()[l], df_dm2.max()[l], df_bev.max()[l]]\n",
    "           ]\n",
    "\n",
    "df_latency_results = pd.DataFrame(results, columns=['', 'CONV', 'RoI', 'DM (1)', 'DM (2)', 'BEV'])\n",
    "print(df_latency_results)\n"
   ],
   "metadata": {
    "collapsed": false,
    "ExecuteTime": {
     "end_time": "2025-05-07T11:27:38.414104Z",
     "start_time": "2025-05-07T11:27:38.408311Z"
    }
   },
   "id": "7b266cd23e0d8087",
   "outputs": [
    {
     "name": "stdout",
     "output_type": "stream",
     "text": [
      "               CONV       RoI    DM (1)    DM (2)        BEV\n",
      "0     min  0.197800  0.191800  0.190600  0.189600   0.298000\n",
      "1    mean  0.390621  0.393498  0.393449  0.392682  46.147741\n",
      "2  median  0.300200  0.298000  0.298000  0.297600  47.711000\n",
      "3     max  1.605600  1.603000  1.582800  1.617200  47.828400\n"
     ]
    }
   ],
   "execution_count": 22
  },
  {
   "cell_type": "code",
   "source": [
    "# computation time: conversion vs. RoI vs. DepthMap\n",
    "df_conversion['latency [us]'] = df_conversion['latency [ms]'] * 1000\n",
    "df_roi['latency [us]'] = df_roi['latency [ms]'] * 1000\n",
    "df_dm1['latency [us]'] = df_dm1['latency [ms]'] * 1000\n",
    "df_dm2['latency [us]'] = df_dm2['latency [ms]'] * 1000\n",
    "\n",
    "fig, ax = plt.subplots()\n",
    "ax.boxplot(df_conversion['latency [us]'].to_numpy(), positions=[2], widths=[1],\n",
    "           patch_artist=True, showmeans=False, showfliers=False, labels=['CONV'],\n",
    "           boxprops={'facecolor': '#104E8B'}, medianprops={'color': 'white'})\n",
    "ax.boxplot(df_roi['latency [us]'].to_numpy(), positions=[4], widths=[1],\n",
    "           patch_artist=True, showmeans=False, showfliers=False, labels=['RoI'], \n",
    "           boxprops={'facecolor': '#1090FF'}, medianprops={'color': 'white'})\n",
    "ax.boxplot(df_dm1['latency [us]'].to_numpy(), positions=[6], widths=[1],\n",
    "           patch_artist=True, showmeans=False, showfliers=False, labels=['DM (1)'], \n",
    "           boxprops={'facecolor': '#1C86EE'}, medianprops={'color': 'white'})\n",
    "ax.boxplot(df_dm2['latency [us]'].to_numpy(), positions=[8], widths=[1],\n",
    "           patch_artist=True, showmeans=False, showfliers=False, labels=['DM (2)'], \n",
    "           boxprops={'facecolor': '#1874CD'}, medianprops={'color': 'white'})\n",
    "ax.set(xlim=(0, 10))\n",
    "ax.set(ylim=(250, 350), yticks=[250 + i * 50 for i in range(3)], ylabel='Latency [us]')\n",
    "plt.show()\n",
    "fig.savefig(os.path.join(fig_dir, 'conv_roi_dm.png'))"
   ],
   "metadata": {
    "collapsed": false,
    "ExecuteTime": {
     "end_time": "2025-05-07T11:27:38.510440Z",
     "start_time": "2025-05-07T11:27:38.466605Z"
    }
   },
   "id": "2c1510cfa56a574d",
   "outputs": [
    {
     "name": "stderr",
     "output_type": "stream",
     "text": [
      "/tmp/ipykernel_1750629/2474037712.py:8: MatplotlibDeprecationWarning: The 'labels' parameter of boxplot() has been renamed 'tick_labels' since Matplotlib 3.9; support for the old name will be dropped in 3.11.\n",
      "  ax.boxplot(df_conversion['latency [us]'].to_numpy(), positions=[2], widths=[1],\n",
      "/tmp/ipykernel_1750629/2474037712.py:11: MatplotlibDeprecationWarning: The 'labels' parameter of boxplot() has been renamed 'tick_labels' since Matplotlib 3.9; support for the old name will be dropped in 3.11.\n",
      "  ax.boxplot(df_roi['latency [us]'].to_numpy(), positions=[4], widths=[1],\n",
      "/tmp/ipykernel_1750629/2474037712.py:14: MatplotlibDeprecationWarning: The 'labels' parameter of boxplot() has been renamed 'tick_labels' since Matplotlib 3.9; support for the old name will be dropped in 3.11.\n",
      "  ax.boxplot(df_dm1['latency [us]'].to_numpy(), positions=[6], widths=[1],\n",
      "/tmp/ipykernel_1750629/2474037712.py:17: MatplotlibDeprecationWarning: The 'labels' parameter of boxplot() has been renamed 'tick_labels' since Matplotlib 3.9; support for the old name will be dropped in 3.11.\n",
      "  ax.boxplot(df_dm2['latency [us]'].to_numpy(), positions=[8], widths=[1],\n"
     ]
    },
    {
     "data": {
      "text/plain": [
       "<Figure size 640x480 with 1 Axes>"
      ],
      "image/png": "[encoded data removed]"
     },
     "metadata": {},
     "output_type": "display_data"
    }
   ],
   "execution_count": 23
  },
  {
   "cell_type": "code",
   "source": [
    "# computation time: BEV vs. MAX\n",
    "fig, ax = plt.subplots()\n",
    "ax.boxplot(df_bev['latency [ms]'].to_numpy(), positions=[2], widths=[1],\n",
    "           patch_artist=True, showmeans=False, showfliers=False, labels=['BEV'], \n",
    "           boxprops={'facecolor': '#FF7F00'}, medianprops={'color': 'white'})\n",
    "ax.set(xlim=(0, 4))\n",
    "ax.set(ylabel='Latency [ms]')\n",
    "plt.show()\n",
    "fig.savefig(os.path.join(fig_dir, 'bev.png'))"
   ],
   "metadata": {
    "collapsed": false,
    "ExecuteTime": {
     "end_time": "2025-05-07T11:27:38.567323Z",
     "start_time": "2025-05-07T11:27:38.526823Z"
    }
   },
   "id": "435cf8911897609c",
   "outputs": [
    {
     "name": "stderr",
     "output_type": "stream",
     "text": [
      "/tmp/ipykernel_1750629/1234596885.py:3: MatplotlibDeprecationWarning: The 'labels' parameter of boxplot() has been renamed 'tick_labels' since Matplotlib 3.9; support for the old name will be dropped in 3.11.\n",
      "  ax.boxplot(df_bev['latency [ms]'].to_numpy(), positions=[2], widths=[1],\n"
     ]
    },
    {
     "data": {
      "text/plain": [
       "<Figure size 640x480 with 1 Axes>"
      ],
      "image/png": "[encoded data removed]"
     },
     "metadata": {},
     "output_type": "display_data"
    }
   ],
   "execution_count": 24
  },
  {
   "cell_type": "markdown",
   "source": [
    "### Latency Impact of PEs"
   ],
   "metadata": {
    "collapsed": false
   },
   "id": "55c0904025687ba1"
  },
  {
   "cell_type": "code",
   "source": [
    "CONV_OUTLIER_FRAMES = df_conversion.loc[df_conversion['latency [ms]'] > 1.0, 'frame_nr'].to_numpy()\n",
    "ROI_OUTLIER_FRAMES = df_roi.loc[df_roi['latency [ms]'] > 1.0, 'frame_nr'].to_numpy()\n",
    "DM1_OUTLIER_FRAMES = df_dm1.loc[df_dm1['latency [ms]'] > 1.0, 'frame_nr'].to_numpy()\n",
    "DM2_OUTLIER_FRAMES = df_dm2.loc[df_dm2['latency [ms]'] > 1.0, 'frame_nr'].to_numpy()\n",
    "BEV_OUTLIER_FRAMES = df_bev.loc[df_bev['latency [ms]'] < 1.0, 'frame_nr'].to_numpy()"
   ],
   "metadata": {
    "collapsed": false,
    "ExecuteTime": {
     "end_time": "2025-05-07T11:27:38.595780Z",
     "start_time": "2025-05-07T11:27:38.592914Z"
    }
   },
   "id": "5a2b6032960fa7ce",
   "outputs": [],
   "execution_count": 25
  },
  {
   "cell_type": "code",
   "source": [
    "f = 'diff'\n",
    "FPE_BINS = [-150, -100, -80, -60, -40, -20, 0, 20, 40, 60, 80, 100, 150, 200]\n",
    "\n",
    "# FPE - impact in [us]\n",
    "df_1 = df_conversion.rename(columns={'latency [us]': 'CONV'})\n",
    "df_1 = df_1.loc[:, ['frame_nr', 'CONV']]\n",
    "for f in CONV_OUTLIER_FRAMES:\n",
    "    df_1 = df_1.loc[df_1['frame_nr'] != f]\n",
    "\n",
    "df_2 = df_roi.rename(columns={'latency [us]': 'RoI'})\n",
    "df_2 = df_2.loc[:, ['frame_nr', 'RoI']]\n",
    "for f in ROI_OUTLIER_FRAMES:\n",
    "    df_2 = df_2.loc[df_2['frame_nr'] != f]\n",
    "\n",
    "# FPE - impact in [us]\n",
    "df_compare_fpe = pd.merge(df_1, df_2, how='inner', on='frame_nr')\n",
    "df_compare_fpe[f] = df_compare_fpe['RoI'] - df_compare_fpe['CONV']\n",
    "\n",
    "res_table = [['FPE [us]', df_compare_fpe.min()[f], df_compare_fpe.mean()[f], df_compare_fpe.median()[f], df_compare_fpe.max()[f]]]\n",
    "\n",
    "fpe_counts, _ = np.histogram(df_compare_fpe[f].to_numpy(), bins=FPE_BINS)\n",
    "fpe_counts = fpe_counts / np.sum(fpe_counts) * 100"
   ],
   "metadata": {
    "collapsed": false,
    "ExecuteTime": {
     "end_time": "2025-05-07T11:27:38.659319Z",
     "start_time": "2025-05-07T11:27:38.647563Z"
    }
   },
   "id": "8471fc8488a6d61c",
   "outputs": [],
   "execution_count": 26
  },
  {
   "cell_type": "code",
   "source": [
    "# visualize\n",
    "fig, ax = plt.subplots()\n",
    "ax.hist(FPE_BINS[:-1], FPE_BINS, weights=fpe_counts, label='FPE', color='#104E8B')\n",
    "ax.legend()\n",
    "ax.set(xlabel='Latency Impact [us]',\n",
    "       xticks=[-150, -100, -60, -20, 0, 20, 60, 100, 150, 200])\n",
    "ax.set(ylabel='Frames [%]')\n",
    "plt.show()\n",
    "fig.savefig(os.path.join(fig_dir, 'fpe_impact.png'))"
   ],
   "metadata": {
    "collapsed": false,
    "ExecuteTime": {
     "end_time": "2025-05-07T11:27:38.768101Z",
     "start_time": "2025-05-07T11:27:38.707926Z"
    }
   },
   "id": "2639cf5468dee5bc",
   "outputs": [
    {
     "data": {
      "text/plain": [
       "<Figure size 640x480 with 1 Axes>"
      ],
      "image/png": "[encoded data removed]"
     },
     "metadata": {},
     "output_type": "display_data"
    }
   ],
   "execution_count": 27
  },
  {
   "cell_type": "code",
   "source": [
    "ARPE_BINS = [-100, -80, -60, -40, -20, 0, 20, 40, 60, 80, 100]\n",
    "# ArPE - impact in [us]\n",
    "df_3 = df_dm1.rename(columns={'latency [us]': 'DM (1)'})\n",
    "df_3 = df_3.loc[:, ['frame_nr', 'DM (1)']]\n",
    "for f in DM1_OUTLIER_FRAMES:\n",
    "    df_3 = df_3.loc[df_3['frame_nr'] != f]\n",
    "\n",
    "df_4 = df_dm2.rename(columns={'latency [us]': 'DM (2)'})\n",
    "df_4 = df_4.loc[:, ['frame_nr', 'DM (2)']]\n",
    "for f in DM2_OUTLIER_FRAMES:\n",
    "    df_4 = df_4.loc[df_4['frame_nr'] != f]\n",
    "    \n",
    "df_compare_arpe_1 = pd.merge(df_2, df_3, how='inner', on='frame_nr')\n",
    "df_compare_arpe_1[f] = df_compare_arpe_1['DM (1)'] - df_compare_arpe_1['RoI']\n",
    "\n",
    "df_compare_arpe_2 = pd.merge(df_3, df_4, how='inner', on='frame_nr')\n",
    "df_compare_arpe_2[f] = df_compare_arpe_2['DM (2)'] - df_compare_arpe_2['DM (1)']\n",
    "\n",
    "\n",
    "arpe_counts_1, _ = np.histogram(df_compare_arpe_1[f].to_numpy(), bins=ARPE_BINS)\n",
    "arpe_counts_1 = arpe_counts_1 / np.sum(arpe_counts_1) * 100\n",
    "\n",
    "arpe_counts_2, _ = np.histogram(df_compare_arpe_2[f].to_numpy(), bins=ARPE_BINS)\n",
    "arpe_counts_2 = arpe_counts_2 / np.sum(arpe_counts_2) * 100\n",
    "\n",
    "df_arpe = pd.concat([df_compare_arpe_1.loc[:, f], df_compare_arpe_2.loc[:, f]])\n",
    "res_table.append(['ArPE [us]', df_arpe.min(), df_arpe.mean(), df_arpe.median(), df_arpe.max()])"
   ],
   "metadata": {
    "collapsed": false,
    "ExecuteTime": {
     "end_time": "2025-05-07T11:27:38.797989Z",
     "start_time": "2025-05-07T11:27:38.785147Z"
    }
   },
   "id": "584c214306f12211",
   "outputs": [],
   "execution_count": 28
  },
  {
   "cell_type": "code",
   "source": [
    "# visualize\n",
    "fig, ax = plt.subplots()\n",
    "ax.hist(ARPE_BINS[:-1], ARPE_BINS, weights=arpe_counts_1, label='DM (1) - RoI', color='#104E8B')\n",
    "ax.hist(ARPE_BINS[:-1], ARPE_BINS, weights=arpe_counts_2, label='DM (2) - DM (1)', color='#FF7F00', alpha=0.7)\n",
    "ax.legend()\n",
    "ax.set(xlabel='Latency Impact [us]', \n",
    "       xticks=ARPE_BINS)\n",
    "ax.set(ylabel='Frames [%]')\n",
    "plt.show()\n",
    "fig.savefig(os.path.join(fig_dir, 'arpe_impact.png'))"
   ],
   "metadata": {
    "collapsed": false,
    "ExecuteTime": {
     "end_time": "2025-05-07T11:27:38.907742Z",
     "start_time": "2025-05-07T11:27:38.839886Z"
    }
   },
   "id": "51d354c79ee52ee6",
   "outputs": [
    {
     "data": {
      "text/plain": [
       "<Figure size 640x480 with 1 Axes>"
      ],
      "image/png": "[encoded data removed]"
     },
     "metadata": {},
     "output_type": "display_data"
    }
   ],
   "execution_count": 29
  },
  {
   "cell_type": "code",
   "source": [
    "# AggPE - [ms]\n",
    "df_5 = df_bev.rename(columns={'latency [ms]': 'BEV'})\n",
    "df_5 = df_5.loc[:, ['frame_nr', 'BEV']]\n",
    "for f in BEV_OUTLIER_FRAMES:\n",
    "    df_5 = df_5.loc[df_5['frame_nr'] != f]\n",
    "\n",
    "df_4['DM (2)'] /= 1000 # convert to ms\n",
    "\n",
    "df_compare_aggpe = pd.merge(df_4, df_5, how='inner', on='frame_nr')\n",
    "df_compare_aggpe[f] = df_compare_aggpe['BEV'] - df_compare_aggpe['DM (2)']\n",
    "\n",
    "res_table.append(['AggPE [ms]', df_compare_aggpe.min()[f], df_compare_aggpe.mean()[f], df_compare_aggpe.median()[f], df_compare_aggpe.max()[f]])"
   ],
   "metadata": {
    "collapsed": false,
    "ExecuteTime": {
     "end_time": "2025-05-07T11:29:05.499968Z",
     "start_time": "2025-05-07T11:29:05.493450Z"
    }
   },
   "id": "d357403a64db8987",
   "outputs": [],
   "execution_count": 32
  },
  {
   "metadata": {
    "ExecuteTime": {
     "end_time": "2025-05-07T11:29:07.463487Z",
     "start_time": "2025-05-07T11:29:07.406171Z"
    }
   },
   "cell_type": "code",
   "source": [
    "AGG_BINS = [46 + i / 10  for i in range(20)]\n",
    "aggpe_counts, aggpe_bins = np.histogram(df_compare_aggpe[f].to_numpy(), bins=AGG_BINS)\n",
    "aggpe_counts = aggpe_counts / np.sum(aggpe_counts) * 100\n",
    "\n",
    "fig, ax = plt.subplots()\n",
    "ax.hist(AGG_BINS[:-1], AGG_BINS, weights=aggpe_counts, label='AggPE', color='#228b22')\n",
    "ax.set(xlabel='Latency Impact [ms]',\n",
    "       xticks=[46, 46.5, 47, 47.5, 48])\n",
    "ax.set(ylabel='Frames [%]')\n",
    "ax.legend()\n",
    "plt.show()\n",
    "fig.savefig(os.path.join(fig_dir, 'aggpe_impact.png'))"
   ],
   "id": "61dc45806e0d95e9",
   "outputs": [
    {
     "data": {
      "text/plain": [
       "<Figure size 640x480 with 1 Axes>"
      ],
      "image/png": "[encoded data removed]"
     },
     "metadata": {},
     "output_type": "display_data"
    }
   ],
   "execution_count": 33
  },
  {
   "cell_type": "code",
   "source": [
    "# raw numbers\n",
    "df_res = pd.DataFrame(res_table, columns=['', 'min', 'mean', 'median', 'max'])\n",
    "print(df_res)"
   ],
   "metadata": {
    "collapsed": false,
    "ExecuteTime": {
     "end_time": "2025-05-07T11:29:10.619933Z",
     "start_time": "2025-05-07T11:29:10.616382Z"
    }
   },
   "id": "1abce3678ca3a3e",
   "outputs": [
    {
     "name": "stdout",
     "output_type": "stream",
     "text": [
      "                    min       mean   median       max\n",
      "0    FPE [us] -141.8000  -2.874428  -2.4000  165.2000\n",
      "1   ArPE [us] -106.8000  -0.640373  -0.2000   96.4000\n",
      "2  AggPE [ms]   46.1418  47.079505  47.4084   47.5284\n"
     ]
    }
   ],
   "execution_count": 34
  },
  {
   "metadata": {},
   "cell_type": "markdown",
   "source": [
    "#### Impact of FPE on Frame Size"
   ],
   "id": "6f59b698ab49ae11"
  },
  {
   "metadata": {
    "ExecuteTime": {
     "end_time": "2025-05-07T11:27:39.065685281Z",
     "start_time": "2025-05-06T07:01:31.709052300Z"
    }
   },
   "cell_type": "code",
   "source": [
    "# Conversion\n",
    "conv_elements = load_frame_size_data(pipeline='conversion')\n",
    "# RoI\n",
    "roi_elements = load_frame_size_data(pipeline='roi')\n",
    "\n",
    "\n",
    "df_compare_elements = pd.concat([conv_elements.loc[:, 'n_elements'].rename('CONV'),\n",
    "                                roi_elements.loc[:, 'n_elements'].rename('RoI')], axis=1)\n",
    "df_compare_elements['ratio'] = df_compare_elements['RoI'] / df_compare_elements['CONV'] * 100\n",
    "\n",
    "print('min\\t\\t', df_compare_elements.min()['ratio'])\n",
    "print('mean\\t', df_compare_elements.mean()['ratio'])\n",
    "print('median\\t', df_compare_elements.median()['ratio'])\n",
    "print('max\\t\\t', df_compare_elements.max()['ratio'])"
   ],
   "id": "7ed139f0df015344",
   "outputs": [
    {
     "name": "stdout",
     "output_type": "stream",
     "text": [
      "min\t\t 95.36396346526432\n",
      "mean\t 95.55547517144353\n",
      "median\t 95.55843706777317\n",
      "max\t\t 95.65698478561549\n"
     ]
    }
   ],
   "execution_count": 13
  },
  {
   "cell_type": "code",
   "source": [
    "# Number of outlier frames\n",
    "conv_num_outliers = len(df_conversion.loc[df_conversion['latency [ms]'] > 1])\n",
    "roi_num_outliers = len(df_roi.loc[df_roi['latency [ms]'] > 1])\n",
    "dm1_num_outliers = len(df_dm1.loc[df_dm1['latency [ms]'] > 1])\n",
    "dm2_num_outliers = len(df_dm2.loc[df_dm2['latency [ms]'] > 1])\n",
    "print(conv_num_outliers, roi_num_outliers, dm1_num_outliers, dm2_num_outliers)"
   ],
   "metadata": {
    "collapsed": false,
    "ExecuteTime": {
     "end_time": "2025-05-07T11:27:39.065815722Z",
     "start_time": "2025-05-06T07:01:31.740204300Z"
    }
   },
   "id": "47ad42ba996d3447",
   "outputs": [
    {
     "name": "stdout",
     "output_type": "stream",
     "text": [
      "36 39 39 39\n"
     ]
    }
   ],
   "execution_count": 14
  },
  {
   "cell_type": "markdown",
   "source": [
    "## 2. Point Rate"
   ],
   "metadata": {
    "collapsed": false
   },
   "id": "1c05a82334dc02ab"
  },
  {
   "metadata": {
    "ExecuteTime": {
     "end_time": "2025-05-07T11:27:39.068753227Z",
     "start_time": "2025-05-06T07:01:31.758826700Z"
    }
   },
   "cell_type": "code",
   "source": [
    "# load the ground truth\n",
    "all_gt = pd.read_csv('./data/conversion/point_rate/frame_size_gt.csv').sum()['n_elements']\n",
    "filtered_gt = pd.read_csv('./data/roi/point_rate/frame_size_gt.csv').sum()['n_elements']\n",
    "bev_gt = pd.read_csv('./data/bev/point_rate/frame_size_gt.csv').sum()['n_elements']\n",
    "\n",
    "print(all_gt, filtered_gt, bev_gt)"
   ],
   "id": "aea4ebdbf434981f",
   "outputs": [
    {
     "name": "stdout",
     "output_type": "stream",
     "text": [
      "30381904 29031584 133378\n"
     ]
    }
   ],
   "execution_count": 15
  },
  {
   "metadata": {
    "collapsed": false,
    "ExecuteTime": {
     "end_time": "2025-05-07T11:27:39.068939499Z",
     "start_time": "2025-05-06T07:01:31.805470800Z"
    }
   },
   "cell_type": "code",
   "source": [
    "# overview\n",
    "total_elem = []\n",
    "cols = ['Pipeline', 'GT', '8Mbps', '16Mbps', '32Mbps', '64Mbps', '128Mbps']\n",
    "for p in ['conversion', 'roi', 'dm1', 'dm2', 'bev']:\n",
    "    gt = all_gt if p == 'conversion' else bev_gt if p == 'bev' else filtered_gt\n",
    "    log = [p, gt]\n",
    "    for t in [8, 16, 32, 64, 128]:\n",
    "        df = load_frame_size_data(pipeline=p, throughput=t)\n",
    "        total = df.sum()['n_elements']\n",
    "        log.append(total)\n",
    "    total_elem.append(log)\n",
    "\n",
    "df_res = pd.DataFrame(np.array(total_elem), columns=cols)\n",
    "df_res.to_csv(os.path.join(OUT_DIR, 'throughput_overview.csv'), index=False)\n",
    "print(df_res)"
   ],
   "id": "178e2dc0ba1c6b23",
   "outputs": [
    {
     "name": "stdout",
     "output_type": "stream",
     "text": [
      "     Pipeline        GT     8Mbps    16Mbps    32Mbps    64Mbps   128Mbps\n",
      "0  conversion  30381904  30381904  30381904  30381904  30371152  30381904\n",
      "1         roi  29031584  29031573  29031573  29030424  29006738  29026604\n",
      "2         dm1  29031584  29031573  29031573  29031573  29031573  29031190\n",
      "3         dm2  29031584  29031573  29031573  28965945  29031573  29031573\n",
      "4         bev    133378    139197    139197  30381904    139197    139196\n"
     ]
    }
   ],
   "execution_count": 16
  },
  {
   "metadata": {},
   "cell_type": "markdown",
   "source": [
    "## 3. Precision"
   ],
   "id": "5147883365a3f27c"
  },
  {
   "metadata": {
    "ExecuteTime": {
     "end_time": "2025-05-07T11:27:39.069751554Z",
     "start_time": "2025-05-06T07:01:31.950682900Z"
    }
   },
   "cell_type": "code",
   "source": [
    "# Pipeline 1: RoI\n"
   ],
   "id": "674745bfc936d431",
   "outputs": [],
   "execution_count": 17
  },
  {
   "metadata": {
    "ExecuteTime": {
     "end_time": "2025-05-07T11:27:39.071328830Z",
     "start_time": "2025-05-06T07:01:31.966454400Z"
    }
   },
   "cell_type": "code",
   "source": [
    "# --- visualize --- #\n",
    "# ToDo\n",
    "\n"
   ],
   "id": "f3a645306f3791de",
   "outputs": [],
   "execution_count": 18
  },
  {
   "metadata": {
    "ExecuteTime": {
     "end_time": "2025-05-07T11:27:39.071504970Z",
     "start_time": "2025-05-06T07:01:31.982581500Z"
    }
   },
   "cell_type": "code",
   "source": [
    "# Pipeline 2: BEV - max(z)\n"
   ],
   "id": "2a6213336a1e1399",
   "outputs": [],
   "execution_count": 19
  },
  {
   "metadata": {
    "ExecuteTime": {
     "end_time": "2025-05-07T11:27:39.071646598Z",
     "start_time": "2025-05-06T11:06:49.651768100Z"
    }
   },
   "cell_type": "code",
   "source": [
    "# --- visualize --- #\n",
    "gt_img = Image.open('./figures/precision/bev/000080/ground_truth.png')\n",
    "pal_img = Image.open('./figures/precision/bev/000080/palicus.png')\n",
    "diff = ImageChops.difference(gt_img, pal_img)\n",
    "diff.save('./figures/precision/bev/000080/delta.png')\n",
    "\n",
    "display(gt_img)\n",
    "display(pal_img)\n",
    "display(diff)"
   ],
   "id": "82530b67fb49301e",
   "outputs": [
    {
     "data": {
      "text/plain": "<PIL.PngImagePlugin.PngImageFile image mode=L size=30x30>",
      "image/png": "[encoded data removed]",
      "image/jpeg": "[encoded data removed]"
     },
     "metadata": {},
     "output_type": "display_data"
    },
    {
     "data": {
      "text/plain": "<PIL.PngImagePlugin.PngImageFile image mode=L size=31x30>",
      "image/png": "[encoded data removed]",
      "image/jpeg": "[encoded data removed]"
     },
     "metadata": {},
     "output_type": "display_data"
    },
    {
     "data": {
      "text/plain": "<PIL.Image.Image image mode=L size=30x30>",
      "image/png": "[encoded data removed]",
      "image/jpeg": "[encoded data removed]"
     },
     "metadata": {},
     "output_type": "display_data"
    }
   ],
   "execution_count": 54
  },
  {
   "metadata": {
    "ExecuteTime": {
     "end_time": "2025-05-07T11:27:39.071798843Z",
     "start_time": "2025-05-06T07:01:32.031745700Z"
    }
   },
   "cell_type": "code",
   "source": [
    "# Pipeline 3: BEV - mean(i)"
   ],
   "id": "eb91e7772828e05b",
   "outputs": [],
   "execution_count": 21
  },
  {
   "metadata": {
    "ExecuteTime": {
     "end_time": "2025-05-07T11:30:48.116656Z",
     "start_time": "2025-05-07T11:30:48.104983Z"
    }
   },
   "cell_type": "code",
   "source": [
    "# --- visualize --- #\n",
    "gt_img = Image.open('./figures/precision/bev_mean/000522/ground_truth.png')\n",
    "pal_img = Image.open('./figures/precision/bev_mean/000522/palicus.png')\n",
    "diff = ImageChops.difference(gt_img, pal_img)\n",
    "diff.save('./figures/precision/bev_mean/000522/delta.png')\n",
    "\n",
    "display(gt_img)\n",
    "display(pal_img)\n",
    "display(diff)"
   ],
   "id": "f275acd8ce3b1022",
   "outputs": [
    {
     "data": {
      "text/plain": [
       "<PIL.PngImagePlugin.PngImageFile image mode=L size=30x30>"
      ],
      "image/png": "[encoded data removed]",
      "image/jpeg": "[encoded data removed]"
     },
     "metadata": {},
     "output_type": "display_data"
    },
    {
     "data": {
      "text/plain": [
       "<PIL.PngImagePlugin.PngImageFile image mode=L size=31x30>"
      ],
      "image/png": "[encoded data removed]",
      "image/jpeg": "[encoded data removed]"
     },
     "metadata": {},
     "output_type": "display_data"
    },
    {
     "data": {
      "text/plain": [
       "<PIL.Image.Image image mode=L size=30x30>"
      ],
      "image/png": "[encoded data removed]",
      "image/jpeg": "[encoded data removed]"
     },
     "metadata": {},
     "output_type": "display_data"
    }
   ],
   "execution_count": 35
  }
 ],
 "metadata": {
  "kernelspec": {
   "display_name": "Python 3",
   "language": "python",
   "name": "python3"
  },
  "language_info": {
   "codemirror_mode": {
    "name": "ipython",
    "version": 2
   },
   "file_extension": ".py",
   "mimetype": "text/x-python",
   "name": "python",
   "nbconvert_exporter": "python",
   "pygments_lexer": "ipython2",
   "version": "2.7.6"
  }
 },
 "nbformat": 4,
 "nbformat_minor": 5
}
