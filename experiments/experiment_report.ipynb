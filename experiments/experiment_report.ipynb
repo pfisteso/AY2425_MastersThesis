{
 "cells": [
  {
   "cell_type": "markdown",
   "source": [
    "# Master's Thesis Experiments Report"
   ],
   "metadata": {
    "collapsed": false
   },
   "id": "60874c9d5a314cdb"
  },
  {
   "cell_type": "code",
   "id": "initial_id",
   "metadata": {
    "collapsed": true,
    "is_executing": true,
    "ExecuteTime": {
     "end_time": "2025-04-11T14:11:53.678894Z",
     "start_time": "2025-04-11T14:11:53.676801Z"
    }
   },
   "source": [
    "import os\n",
    "import pandas as pd\n",
    "from matplotlib import pyplot as plt\n",
    "from scripts.utils import load_latency_data, load_frame_size_data, clean_latency_data"
   ],
   "outputs": [],
   "execution_count": 15
  },
  {
   "cell_type": "code",
   "source": [
    "# constants\n",
    "FIG_DIR = './figures/{}'"
   ],
   "metadata": {
    "collapsed": false,
    "ExecuteTime": {
     "end_time": "2025-04-11T14:11:53.689672Z",
     "start_time": "2025-04-11T14:11:53.682697Z"
    }
   },
   "id": "81d2196f215380c6",
   "outputs": [],
   "execution_count": 16
  },
  {
   "cell_type": "markdown",
   "source": [
    "## 1.   Pipeline Latency\n",
    "The data was replayed at 8 Mbps.\n",
    "For each frame f, we measure the timedelta between the last emitted LiDAR data packet and\n",
    "the last incoming Palicus data packet containing data associated with f.\n",
    "We exclude the first and the last frame to ensure that we only consider the latency of full frames."
   ],
   "metadata": {
    "collapsed": false
   },
   "id": "7735df7de6c8bb2f"
  },
  {
   "cell_type": "code",
   "source": [
    "fig_dir = FIG_DIR.format('latency')\n",
    "if not os.path.exists(fig_dir):\n",
    "    os.makedirs(fig_dir)"
   ],
   "metadata": {
    "collapsed": false,
    "ExecuteTime": {
     "end_time": "2025-04-11T14:11:53.729551Z",
     "start_time": "2025-04-11T14:11:53.727597Z"
    }
   },
   "id": "45e382a0e3d6ab82",
   "outputs": [],
   "execution_count": 17
  },
  {
   "cell_type": "code",
   "source": [
    "# Load the data\n",
    "df_conversion = load_latency_data(pipeline='conversion')\n",
    "df_roi = load_latency_data(pipeline='roi')\n",
    "df_dm1 = load_latency_data(pipeline='dm1')\n",
    "df_dm2 = load_latency_data(pipeline='dm2')\n",
    "df_bev = load_latency_data(pipeline='bev')\n",
    "df_max = load_latency_data(pipeline='max')"
   ],
   "metadata": {
    "collapsed": false,
    "ExecuteTime": {
     "end_time": "2025-04-11T14:11:53.782272Z",
     "start_time": "2025-04-11T14:11:53.775798Z"
    }
   },
   "id": "156ddd31632e48ba",
   "outputs": [],
   "execution_count": 18
  },
  {
   "cell_type": "code",
   "source": [
    "# tabular representation\n",
    "l = 'latency [ms]'\n",
    "\n",
    "results = [['min', df_conversion.min()[l], df_roi.min()[l], df_dm1.min()[l], df_dm2.min()[l], df_bev.min()[l],\n",
    "            df_max.min()[l]],\n",
    "           ['mean', df_conversion.mean()[l], df_roi.mean()[l], df_dm1.mean()[l], df_dm2.mean()[l], df_bev.mean()[l],\n",
    "            df_max.mean()[l]],\n",
    "           ['median', df_conversion.median()[l], df_roi.median()[l], df_dm1.median()[l], df_dm2.median()[l],\n",
    "            df_bev.median()[l], df_max.median()[l]],\n",
    "           ['max', df_conversion.max()[l], df_roi.max()[l], df_dm1.max()[l], df_dm2.max()[l], df_bev.max()[l],\n",
    "            df_max.max()[l]]\n",
    "           ]\n",
    "\n",
    "df_latency_results = pd.DataFrame(results, columns=['', 'CONV', 'RoI', 'DM (1)', 'DM (2)', 'BEV', 'MAX'])\n",
    "print(df_latency_results)\n"
   ],
   "metadata": {
    "collapsed": false,
    "ExecuteTime": {
     "end_time": "2025-04-11T14:11:53.832490Z",
     "start_time": "2025-04-11T14:11:53.824675Z"
    }
   },
   "id": "7b266cd23e0d8087",
   "outputs": [
    {
     "name": "stdout",
     "output_type": "stream",
     "text": [
      "              CONV       RoI    DM (1)    DM (2)        BEV        MAX\n",
      "0     min  0.19040  0.186200  0.185200  0.193200   0.294200   0.297800\n",
      "1    mean  0.38236  0.387328  0.388334  0.389076  46.049722  46.049746\n",
      "2  median  0.30000  0.299800  0.300800  0.301400  47.708600  47.709400\n",
      "3     max  1.56920  1.606200  1.563400  1.576000  47.823800  47.828400\n"
     ]
    }
   ],
   "execution_count": 19
  },
  {
   "cell_type": "code",
   "source": [
    "# computation time: conversion vs. RoI vs. DepthMap\n",
    "df_conversion['CONV'] = df_conversion['latency [ms]'] * 1000\n",
    "df_roi['RoI'] = df_roi['latency [ms]'] * 1000\n",
    "df_dm1['DM (1)'] = df_dm1['latency [ms]'] * 1000\n",
    "df_dm2['DM (2)'] = df_dm2['latency [ms]'] * 1000\n",
    "\n",
    "fig, ax = plt.subplots()\n",
    "ax.boxplot(df_conversion['CONV'].to_numpy(), positions=[2], widths=[1],\n",
    "           patch_artist=True, showmeans=False, showfliers=False, labels=['CONV'])\n",
    "ax.boxplot(df_roi['RoI'].to_numpy(), positions=[4], widths=[1],\n",
    "           patch_artist=True, showmeans=False, showfliers=False, labels=['RoI'])\n",
    "ax.boxplot(df_dm1['DM (1)'].to_numpy(), positions=[6], widths=[1],\n",
    "           patch_artist=True, showmeans=False, showfliers=False, labels=['DM (1)'])\n",
    "ax.boxplot(df_dm2['DM (2)'].to_numpy(), positions=[8], widths=[1],\n",
    "           patch_artist=True, showmeans=False, showfliers=False, labels=['DM (2)'])\n",
    "ax.set(xlim=(0, 10))\n",
    "ax.set(ylim=(250, 350), yticks=[250 + i * 50 for i in range(3)], ylabel='Latency [us]')\n",
    "plt.show()\n",
    "fig.savefig(os.path.join(fig_dir, 'conv_roi_dm.png'))"
   ],
   "metadata": {
    "collapsed": false,
    "ExecuteTime": {
     "end_time": "2025-04-11T14:11:53.922646Z",
     "start_time": "2025-04-11T14:11:53.873788Z"
    }
   },
   "id": "2c1510cfa56a574d",
   "outputs": [
    {
     "data": {
      "text/plain": [
       "<Figure size 640x480 with 1 Axes>"
      ],
      "image/png": "[encoded data removed]"
     },
     "metadata": {},
     "output_type": "display_data"
    }
   ],
   "execution_count": 20
  },
  {
   "cell_type": "markdown",
   "source": [],
   "metadata": {
    "collapsed": false
   },
   "id": "c7f8a3234ddb78c3"
  },
  {
   "cell_type": "code",
   "source": [
    "# computation time: BEV vs. MAX\n",
    "fig, ax = plt.subplots()\n",
    "ax.boxplot(df_bev['latency [ms]'].to_numpy(), positions=[2], widths=[1],\n",
    "           patch_artist=True, showmeans=False, showfliers=False, labels=['BEV'])\n",
    "ax.boxplot(df_max['latency [ms]'].to_numpy(), positions=[4], widths=[1],\n",
    "           patch_artist=True, showmeans=False, showfliers=False, labels=['MAX'])\n",
    "ax.set(xlim=(0, 6))\n",
    "ax.set(ylabel='Latency [ms]')\n",
    "plt.show()\n",
    "fig.savefig(os.path.join(fig_dir, 'bev_max.png'))"
   ],
   "metadata": {
    "collapsed": false,
    "ExecuteTime": {
     "end_time": "2025-04-11T14:11:54.025868Z",
     "start_time": "2025-04-11T14:11:53.943895Z"
    }
   },
   "id": "435cf8911897609c",
   "outputs": [
    {
     "data": {
      "text/plain": [
       "<Figure size 640x480 with 1 Axes>"
      ],
      "image/png": "[encoded data removed]"
     },
     "metadata": {},
     "output_type": "display_data"
    }
   ],
   "execution_count": 21
  },
  {
   "cell_type": "markdown",
   "source": [
    "### Latency Impact of PEs"
   ],
   "metadata": {
    "collapsed": false
   },
   "id": "55c0904025687ba1"
  },
  {
   "cell_type": "code",
   "source": [
    "# FPE\n",
    "df_compare_fpe = pd.concat([df_conversion.loc[:, 'CONV'],\n",
    "                            df_roi.loc[:, 'RoI']], axis=1)\n",
    "df_compare_fpe['diff'] = df_compare_fpe['RoI'] - df_compare_fpe['CONV']\n",
    "\n",
    "# ArPE\n",
    "df_compare_1 = pd.concat([df_roi.loc[:, 'RoI'],\n",
    "                          df_dm1.loc[:, 'DM (1)']], axis=1)\n",
    "df_compare_1['diff'] = df_compare_1['DM (1)'] - df_compare_1['RoI']\n",
    "df_compare_1 = df_compare_1.loc[:, 'diff']\n",
    "\n",
    "df_compare_2 = pd.concat([df_dm1.loc[:, 'DM (1)'],\n",
    "                          df_dm2.loc[:, 'DM (2)']], axis=1)\n",
    "df_compare_2['diff'] = df_compare_2['DM (2)'] - df_compare_2['DM (1)']\n",
    "df_compare_2 = df_compare_2.loc[:, 'diff']\n",
    "\n",
    "df_compare_arpe = pd.DataFrame(pd.concat([df_compare_1, df_compare_2.rename('diff')], axis=0))\n",
    "\n",
    "fig, ax = plt.subplots()\n",
    "ax.boxplot(df_compare_fpe['diff'].to_numpy(), positions=[2], widths=[1],\n",
    "           patch_artist=True, showmeans=False, showfliers=False, labels=['FPE'])\n",
    "ax.boxplot(df_compare_arpe['diff'].to_numpy(), positions=[4], widths=[1],\n",
    "           patch_artist=True, showmeans=False, showfliers=False, labels=['ArPE'])\n",
    "ax.set(xlim=(0, 6))\n",
    "ax.set(ylabel='Latency Impact per Frame [us]')\n",
    "plt.show()\n",
    "fig.savefig(os.path.join(fig_dir, 'fpe_arpe_impact.png'))"
   ],
   "metadata": {
    "collapsed": false,
    "ExecuteTime": {
     "end_time": "2025-04-11T14:11:54.102561Z",
     "start_time": "2025-04-11T14:11:54.046861Z"
    }
   },
   "id": "8471fc8488a6d61c",
   "outputs": [
    {
     "data": {
      "text/plain": [
       "<Figure size 640x480 with 1 Axes>"
      ],
      "image/png": "[encoded data removed]"
     },
     "metadata": {},
     "output_type": "display_data"
    }
   ],
   "execution_count": 22
  },
  {
   "cell_type": "code",
   "source": [
    "# AggPE\n",
    "df_compare_aggpe = pd.concat([df_dm2.loc[:, 'latency [ms]'].rename('DM'),\n",
    "                              df_bev.loc[:, 'latency [ms]'].rename('BEV')], axis=1)\n",
    "df_compare_aggpe['diff'] = df_compare_aggpe['BEV'] - df_compare_aggpe['DM']\n",
    "\n",
    "fig, ax = plt.subplots()\n",
    "ax.boxplot(df_compare_aggpe['diff'].to_numpy(), positions=[2], widths=[1],\n",
    "           patch_artist=True, showmeans=False, showfliers=False, labels=['AggPE'])\n",
    "ax.set(xlim=(0, 4))\n",
    "ax.set(ylabel='Latency Impact per Frame [ms]')\n",
    "plt.show()\n",
    "fig.savefig(os.path.join(fig_dir, 'aggpe_impact.png'))"
   ],
   "metadata": {
    "collapsed": false,
    "ExecuteTime": {
     "end_time": "2025-04-11T14:11:54.175535Z",
     "start_time": "2025-04-11T14:11:54.124138Z"
    }
   },
   "id": "d357403a64db8987",
   "outputs": [
    {
     "data": {
      "text/plain": [
       "<Figure size 640x480 with 1 Axes>"
      ],
      "image/png": "[encoded data removed]"
     },
     "metadata": {},
     "output_type": "display_data"
    }
   ],
   "execution_count": 23
  },
  {
   "cell_type": "code",
   "source": [
    "# crop sample to [mean - 2*sd, mean + 2*sd]\n",
    "df_compare_fpe = clean_latency_data(df_compare_fpe, col='diff', factor=1)\n",
    "df_compare_arpe = clean_latency_data(df_compare_arpe, col='diff', factor=1)\n",
    "df_compare_aggpe = clean_latency_data(df_compare_aggpe, col='diff', factor=1)\n",
    "\n",
    "res_table = [['Span', '[{},{}]'.format(str(round(df_compare_fpe.min()['diff'], 3)), str(round(df_compare_fpe.max()['diff'], 3))),\n",
    "              '[{},{}]'.format(str(round(df_compare_arpe.min()['diff'], 3)), str(round(df_compare_arpe.max()['diff'], 3))),\n",
    "              '[{},{}]'.format(str(round(df_compare_aggpe.min()['diff'], 3)), str(round(df_compare_aggpe.max()['diff'], 3)))],\n",
    "             ['Mean', df_compare_fpe.mean()['diff'], df_compare_arpe.mean()['diff'], df_compare_aggpe.mean()['diff']],\n",
    "             ['Median', df_compare_fpe.median()['diff'], df_compare_arpe.median()['diff'],\n",
    "              df_compare_aggpe.median()['diff']]\n",
    "             ]\n",
    "\n",
    "df_res = pd.DataFrame(res_table, columns=['', 'FPE [us]', 'ArPE [us]', 'AggPE [ms]'])\n",
    "print(df_res)\n"
   ],
   "metadata": {
    "collapsed": false,
    "ExecuteTime": {
     "end_time": "2025-04-11T14:11:54.206020Z",
     "start_time": "2025-04-11T14:11:54.198567Z"
    }
   },
   "id": "1abce3678ca3a3e",
   "outputs": [
    {
     "name": "stdout",
     "output_type": "stream",
     "text": [
      "                 FPE [us]     ArPE [us]       AggPE [ms]\n",
      "0    Span  [-127.6,111.0]  [-16.2,18.0]  [46.095,47.568]\n",
      "1    Mean       -1.937864      0.928341        47.002889\n",
      "2  Median            -0.2           1.3          47.4027\n"
     ]
    }
   ],
   "execution_count": 24
  },
  {
   "metadata": {},
   "cell_type": "markdown",
   "source": "#### Impact of FPE on Frame Size",
   "id": "6f59b698ab49ae11"
  },
  {
   "metadata": {
    "ExecuteTime": {
     "end_time": "2025-04-11T14:11:54.243412Z",
     "start_time": "2025-04-11T14:11:54.241979Z"
    }
   },
   "cell_type": "code",
   "source": [
    "# Conversion\n",
    "# conv_packets = load_packet_data(throughput='8Mbps', pipeline='conversion')\n",
    "# conv_packets = pd.DataFrame(conv_packets.groupby('frame_nr').count()['pkt_nr'])\n",
    "\n",
    "# RoI\n",
    "# roi_packets = load_packet_data(throughput='8Mbps', pipeline='roi')\n",
    "# roi_packets = pd.DataFrame(roi_packets.groupby('frame_nr').count()['pkt_nr'])\n",
    "\n",
    "# f_compare_pkt = pd.concat([conv_packets.loc[:, 'pkt_nr'].rename('CONV'),\n",
    "#                            roi_packets.loc[:, 'pkt_nr'].rename('RoI')], axis=1)\n",
    "# df_compare_pkt['ratio'] = df_compare_pkt['RoI'] / df_compare_pkt['CONV'] * 100\n",
    "\n",
    "# print('mean\\t', df_compare_pkt.mean()['ratio'])\n",
    "# print('median\\t', df_compare_pkt.median()['ratio'])\n"
   ],
   "id": "7ed139f0df015344",
   "outputs": [],
   "execution_count": 25
  },
  {
   "cell_type": "markdown",
   "source": [
    "## 2. Point Rate"
   ],
   "metadata": {
    "collapsed": false
   },
   "id": "1c05a82334dc02ab"
  },
  {
   "cell_type": "code",
   "source": [
    "# Conversion\n",
    "total_elem = []\n",
    "cols = ['Pipeline', '8Mbps', '16Mbps', '32Mbps', '64Mbps', '128Mbps']\n",
    "for p in ['conversion', 'roi', 'dm1', 'dm2', 'bev', 'max']:\n",
    "    log = [p]\n",
    "    for t in [8, 16, 32, 64, 128]:\n",
    "        df = load_frame_size_data(pipeline=p)\n",
    "        total = df.loc[df['throughput'] == t]\n",
    "        total = total.loc[total['frame_nr'] == 'TOTAL', 'n_elements'].values[0]\n",
    "        # print(total)\n",
    "        log.append(total)\n",
    "    total_elem.append(log)\n",
    "\n",
    "df_res = pd.DataFrame(total_elem, columns=cols)\n",
    "\n",
    "print(df_res)"
   ],
   "metadata": {
    "collapsed": false,
    "ExecuteTime": {
     "end_time": "2025-04-11T14:13:07.911982Z",
     "start_time": "2025-04-11T14:13:07.864579Z"
    }
   },
   "id": "178e2dc0ba1c6b23",
   "outputs": [
    {
     "name": "stdout",
     "output_type": "stream",
     "text": [
      "     Pipeline     8Mbps    16Mbps    32Mbps    64Mbps   128Mbps\n",
      "0  conversion  30458448  30459216  30459216  30459216  30458832\n",
      "1         roi  29103848  29103848  29103848  29103848  29101546\n",
      "2         dm1  29103848  29103080  29103848  29101935  29095025\n",
      "3         dm2  29103848  29103848  29102696  29103848  29098102\n",
      "4         bev    139468    139468    139468    139468    139450\n",
      "5         max    139468    139468    139468    139468    139468\n"
     ]
    }
   ],
   "execution_count": 31
  },
  {
   "metadata": {
    "ExecuteTime": {
     "end_time": "2025-04-11T14:11:54.366323Z",
     "start_time": "2025-04-11T14:11:54.365107Z"
    }
   },
   "cell_type": "code",
   "source": "",
   "id": "f0dc3dbe3b619c9d",
   "outputs": [],
   "execution_count": null
  }
 ],
 "metadata": {
  "kernelspec": {
   "display_name": "Python 3",
   "language": "python",
   "name": "python3"
  },
  "language_info": {
   "codemirror_mode": {
    "name": "ipython",
    "version": 2
   },
   "file_extension": ".py",
   "mimetype": "text/x-python",
   "name": "python",
   "nbconvert_exporter": "python",
   "pygments_lexer": "ipython2",
   "version": "2.7.6"
  }
 },
 "nbformat": 4,
 "nbformat_minor": 5
}
