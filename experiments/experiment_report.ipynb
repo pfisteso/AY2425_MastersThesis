{
 "cells": [
  {
   "cell_type": "markdown",
   "source": [
    "# Master's Thesis Experiments Report"
   ],
   "metadata": {
    "collapsed": false
   },
   "id": "60874c9d5a314cdb"
  },
  {
   "cell_type": "code",
   "id": "initial_id",
   "metadata": {
    "collapsed": true,
    "ExecuteTime": {
     "end_time": "2025-05-16T09:03:32.719366Z",
     "start_time": "2025-05-16T09:03:32.717130Z"
    }
   },
   "source": [
    "import os\n",
    "import numpy as np\n",
    "import pandas as pd\n",
    "from matplotlib import pyplot as plt\n",
    "from PIL import Image, ImageChops\n",
    "\n",
    "from scripts.utils import load_latency_data, load_frame_size_data"
   ],
   "outputs": [],
   "execution_count": 118
  },
  {
   "cell_type": "code",
   "source": [
    "# constants\n",
    "FIG_DIR = './figures/{}'\n",
    "OUT_DIR = './data/out'\n",
    "if not os.path.exists(OUT_DIR):\n",
    "    os.makedirs(OUT_DIR)"
   ],
   "metadata": {
    "collapsed": false,
    "ExecuteTime": {
     "end_time": "2025-05-16T09:03:32.755841Z",
     "start_time": "2025-05-16T09:03:32.754072Z"
    }
   },
   "id": "81d2196f215380c6",
   "outputs": [],
   "execution_count": 119
  },
  {
   "cell_type": "markdown",
   "source": [
    "## 1.   Pipeline Latency\n",
    "The data was replayed at 8 Mbps.\n",
    "For each frame f, we measure the timedelta between the last emitted LiDAR data packet and\n",
    "the last incoming Palicus data packet containing data associated with f.\n",
    "We exclude the first and the last frame to ensure that we only consider the latency of full frames."
   ],
   "metadata": {
    "collapsed": false
   },
   "id": "7735df7de6c8bb2f"
  },
  {
   "cell_type": "code",
   "source": [
    "fig_dir = FIG_DIR.format('latency')\n",
    "if not os.path.exists(fig_dir):\n",
    "    os.makedirs(fig_dir)"
   ],
   "metadata": {
    "collapsed": false,
    "ExecuteTime": {
     "end_time": "2025-05-16T09:03:32.819193Z",
     "start_time": "2025-05-16T09:03:32.817551Z"
    }
   },
   "id": "45e382a0e3d6ab82",
   "outputs": [],
   "execution_count": 120
  },
  {
   "cell_type": "code",
   "source": [
    "# Load the data\n",
    "df_conversion = load_latency_data(pipeline='conversion')\n",
    "df_roi = load_latency_data(pipeline='roi')\n",
    "df_dm1 = load_latency_data(pipeline='dm1')\n",
    "df_dm2 = load_latency_data(pipeline='dm2')\n",
    "df_bev = load_latency_data(pipeline='bev')"
   ],
   "metadata": {
    "collapsed": false,
    "ExecuteTime": {
     "end_time": "2025-05-16T09:03:32.886108Z",
     "start_time": "2025-05-16T09:03:32.880882Z"
    }
   },
   "id": "156ddd31632e48ba",
   "outputs": [],
   "execution_count": 121
  },
  {
   "cell_type": "code",
   "source": [
    "# tabular representation\n",
    "l = 'latency [ms]'\n",
    "\n",
    "results = [['min', df_conversion.min()[l], df_roi.min()[l], df_dm1.min()[l], df_dm2.min()[l], df_bev.min()[l]],\n",
    "           ['mean', df_conversion.mean()[l], df_roi.mean()[l], df_dm1.mean()[l], df_dm2.mean()[l], df_bev.mean()[l]],\n",
    "           ['median', df_conversion.median()[l], df_roi.median()[l], df_dm1.median()[l], df_dm2.median()[l],\n",
    "            df_bev.median()[l]],\n",
    "           ['max', df_conversion.max()[l], df_roi.max()[l], df_dm1.max()[l], df_dm2.max()[l], df_bev.max()[l]]\n",
    "           ]\n",
    "\n",
    "df_latency_results = pd.DataFrame(results, columns=['', 'CONV', 'RoI', 'DM (1)', 'DM (2)', 'BEV'])\n",
    "print(df_latency_results)\n"
   ],
   "metadata": {
    "collapsed": false,
    "ExecuteTime": {
     "end_time": "2025-05-16T09:03:32.950603Z",
     "start_time": "2025-05-16T09:03:32.944518Z"
    }
   },
   "id": "7b266cd23e0d8087",
   "outputs": [
    {
     "name": "stdout",
     "output_type": "stream",
     "text": [
      "               CONV       RoI    DM (1)    DM (2)        BEV\n",
      "0     min  0.190000  0.189333  0.187667  0.185000   0.294000\n",
      "1    mean  0.390525  0.391811  0.393795  0.393548  46.143263\n",
      "2  median  0.299333  0.296333  0.298667  0.298667  47.705000\n",
      "3     max  1.655333  1.603333  1.584000  1.574000  47.807667\n"
     ]
    }
   ],
   "execution_count": 122
  },
  {
   "metadata": {
    "collapsed": false,
    "ExecuteTime": {
     "end_time": "2025-05-16T09:03:33.010112Z",
     "start_time": "2025-05-16T09:03:33.007854Z"
    }
   },
   "cell_type": "code",
   "source": [
    "# convert ms -> us\n",
    "df_conversion['latency [us]'] = df_conversion['latency [ms]'] * 1000\n",
    "df_roi['latency [us]'] = df_roi['latency [ms]'] * 1000\n",
    "df_dm1['latency [us]'] = df_dm1['latency [ms]'] * 1000\n",
    "df_dm2['latency [us]'] = df_dm2['latency [ms]'] * 1000"
   ],
   "id": "2c1510cfa56a574d",
   "outputs": [],
   "execution_count": 123
  },
  {
   "cell_type": "markdown",
   "source": [
    "### Latency Impact of PEs"
   ],
   "metadata": {
    "collapsed": false
   },
   "id": "55c0904025687ba1"
  },
  {
   "cell_type": "code",
   "source": [
    "CONV_OUTLIER_FRAMES = df_conversion.loc[df_conversion['latency [ms]'] > 1.0, 'frame_nr'].to_numpy()\n",
    "ROI_OUTLIER_FRAMES = df_roi.loc[df_roi['latency [ms]'] > 1.0, 'frame_nr'].to_numpy()\n",
    "BEV_OUTLIER_FRAMES = df_bev.loc[df_bev['latency [ms]'] < 1.0, 'frame_nr'].to_numpy()\n",
    "\n",
    "ftr = 'diff'"
   ],
   "metadata": {
    "collapsed": false,
    "ExecuteTime": {
     "end_time": "2025-05-16T09:03:33.072727Z",
     "start_time": "2025-05-16T09:03:33.070512Z"
    }
   },
   "id": "5a2b6032960fa7ce",
   "outputs": [],
   "execution_count": 124
  },
  {
   "metadata": {},
   "cell_type": "markdown",
   "source": "#### Filtering",
   "id": "59b07d983c0b4cfc"
  },
  {
   "cell_type": "code",
   "source": [
    "# FPE - impact in [us]\n",
    "df_1 = df_conversion.rename(columns={'latency [us]': 'CONV'})\n",
    "df_1 = df_1.loc[:, ['frame_nr', 'CONV']]\n",
    "for f in CONV_OUTLIER_FRAMES:\n",
    "    df_1 = df_1.loc[df_1['frame_nr'] != f]\n",
    "\n",
    "df_2 = df_roi.rename(columns={'latency [us]': 'RoI'})\n",
    "df_2 = df_2.loc[:, ['frame_nr', 'RoI']]\n",
    "for f in ROI_OUTLIER_FRAMES:\n",
    "    df_2 = df_2.loc[df_2['frame_nr'] != f]\n",
    "\n",
    "# FPE - impact in [us]\n",
    "df_compare_fpe = pd.merge(df_1, df_2, how='inner', on='frame_nr')\n",
    "df_compare_fpe[ftr] = df_compare_fpe['RoI'] - df_compare_fpe['CONV']\n",
    "\n",
    "res_table = [['FPE [us]', df_compare_fpe.min()[ftr],\n",
    "              df_compare_fpe.mean()[ftr], df_compare_fpe.median()[ftr],\n",
    "              df_compare_fpe.max()[ftr]]]\n",
    "\n"
   ],
   "metadata": {
    "collapsed": false,
    "ExecuteTime": {
     "end_time": "2025-05-16T09:03:33.143239Z",
     "start_time": "2025-05-16T09:03:33.131819Z"
    }
   },
   "id": "8471fc8488a6d61c",
   "outputs": [],
   "execution_count": 125
  },
  {
   "metadata": {
    "ExecuteTime": {
     "end_time": "2025-05-16T09:04:03.770222Z",
     "start_time": "2025-05-16T09:04:03.557453Z"
    }
   },
   "cell_type": "code",
   "source": [
    "# BAR CHART\n",
    "df_compare_fpe.sort_values(by='frame_nr', ascending=True, inplace=True)\n",
    "frames = df_compare_fpe.loc[:, 'frame_nr'].to_numpy()\n",
    "data = df_compare_fpe.loc[:, ftr].to_numpy()\n",
    "\n",
    "fig, ax = plt.subplots()\n",
    "ax.bar(x=frames, height=data, color=['green' if val < 0 else 'red' for val in data])\n",
    "ax.set_ylabel('Latency Impact [us]', fontsize=14)\n",
    "ax.set(xticks=[], yticks=[i*50-150 for i in range(7)])\n",
    "ax.tick_params(axis='both', which='major', labelsize=11)\n",
    "plt.show()\n",
    "fig.savefig('./figures/latency/fpe_impact_bar.png')"
   ],
   "id": "b22cbf04659748ff",
   "outputs": [
    {
     "data": {
      "text/plain": [
       "<Figure size 640x480 with 1 Axes>"
      ],
      "image/png": "[encoded data removed]"
     },
     "metadata": {},
     "output_type": "display_data"
    }
   ],
   "execution_count": 148
  },
  {
   "cell_type": "code",
   "source": [
    "# HISTOGRAM\n",
    "FPE_BINS = [i*20-160 for i in range(18)]\n",
    "fpe_counts, _ = np.histogram(df_compare_fpe[ftr].to_numpy(), bins=FPE_BINS)\n",
    "fpe_counts = fpe_counts / np.sum(fpe_counts) * 100\n",
    "\n",
    "fig, ax = plt.subplots()\n",
    "ax.hist(FPE_BINS[:-1], FPE_BINS, weights=fpe_counts, label='FPE', color='#104E8B')\n",
    "ax.set_xlabel('Latency Impact [us]', fontsize=14)\n",
    "ax.set_ylabel('Frames [%]', fontsize=14)\n",
    "ax.set(xticks=[i*40 -160 for i in range(10)], yticks=[i*10 for i in range(6)])\n",
    "ax.tick_params(axis='both', which='major', labelsize=11)\n",
    "\n",
    "plt.show()\n",
    "fig.savefig(os.path.join(fig_dir, 'fpe_impact_hist.png'))"
   ],
   "metadata": {
    "collapsed": false,
    "ExecuteTime": {
     "end_time": "2025-05-16T09:03:33.487945Z",
     "start_time": "2025-05-16T09:03:33.427771Z"
    }
   },
   "id": "2639cf5468dee5bc",
   "outputs": [
    {
     "data": {
      "text/plain": [
       "<Figure size 640x480 with 1 Axes>"
      ],
      "image/png": "[encoded data removed]"
     },
     "metadata": {},
     "output_type": "display_data"
    }
   ],
   "execution_count": 127
  },
  {
   "metadata": {},
   "cell_type": "markdown",
   "source": "#### Arithmetic",
   "id": "6920c62006f27154"
  },
  {
   "metadata": {
    "ExecuteTime": {
     "end_time": "2025-05-16T09:03:33.517472Z",
     "start_time": "2025-05-16T09:03:33.512799Z"
    }
   },
   "cell_type": "code",
   "source": [
    "# ArPE - impact in [us]\n",
    "df_2 = df_roi.rename(columns={'latency [us]': 'RoI'})\n",
    "df_2 = df_2.loc[:, ['frame_nr', 'RoI']]\n",
    "\n",
    "df_3 = df_dm1.rename(columns={'latency [us]': 'DM(1)'})\n",
    "df_3 = df_3.loc[:, ['frame_nr', 'DM(1)']]\n",
    "\n",
    "df_compare_arpe = pd.merge(df_2, df_3, how='inner', on='frame_nr')\n",
    "df_compare_arpe[ftr] = df_compare_arpe['DM(1)'] - df_compare_arpe['RoI']\n",
    "\n",
    "res_table.append(['ArPE [us]', df_compare_arpe.min()[ftr],\n",
    "              df_compare_arpe.mean()[ftr], df_compare_arpe.median()[ftr],\n",
    "              df_compare_arpe.max()[ftr]])"
   ],
   "id": "c003e9186ae1923d",
   "outputs": [],
   "execution_count": 128
  },
  {
   "metadata": {
    "ExecuteTime": {
     "end_time": "2025-05-16T09:04:16.559373Z",
     "start_time": "2025-05-16T09:04:16.339767Z"
    }
   },
   "cell_type": "code",
   "source": [
    "# BAR CHART\n",
    "df_compare_arpe.sort_values(by='frame_nr', ascending=True, inplace=True)\n",
    "frames = df_compare_arpe.loc[:, 'frame_nr'].to_numpy()\n",
    "data = df_compare_arpe.loc[:, ftr].to_numpy()\n",
    "\n",
    "fig, ax = plt.subplots()\n",
    "ax.bar(x=frames, height=data, color=['green' if val < 0 else 'red' for val in data])\n",
    "ax.set_ylabel('Latency Impact [us]', fontsize=14)\n",
    "ax.set(xticks=[], yticks=[i*50-150 for i in range(7)])\n",
    "ax.tick_params(axis='both', which='major', labelsize=11)\n",
    "\n",
    "plt.show()\n",
    "fig.savefig('./figures/latency/arpe_impact_bar.png')"
   ],
   "id": "fe3fb6869316a7e7",
   "outputs": [
    {
     "data": {
      "text/plain": [
       "<Figure size 640x480 with 1 Axes>"
      ],
      "image/png": "[encoded data removed]"
     },
     "metadata": {},
     "output_type": "display_data"
    }
   ],
   "execution_count": 149
  },
  {
   "metadata": {
    "ExecuteTime": {
     "end_time": "2025-05-16T09:03:33.980743Z",
     "start_time": "2025-05-16T09:03:33.813099Z"
    }
   },
   "cell_type": "code",
   "source": [
    "# HISTOGRAM\n",
    "ARPE_BINS = [i*20-160 for i in range(18)]\n",
    "arpe_counts, _ = np.histogram(df_compare_arpe[ftr].to_numpy(), bins=ARPE_BINS)\n",
    "arpe_counts = arpe_counts / np.sum(arpe_counts) * 100\n",
    "\n",
    "fig, ax = plt.subplots()\n",
    "ax.hist(ARPE_BINS[:-1], ARPE_BINS, weights=arpe_counts, label='ArPE', color='#104E8B')\n",
    "ax.set_xlabel('Latency Impact [us]', fontsize=14)\n",
    "ax.set_ylabel('Frames [%]', fontsize=14)\n",
    "ax.set(xticks=[i*40 -160 for i in range(10)], yticks=[i*10 for i in range(6)])\n",
    "ax.tick_params(axis='both', which='major', labelsize=11)\n",
    "\n",
    "plt.show()\n",
    "fig.savefig(os.path.join(fig_dir, 'arpe_impact_hist.png'))"
   ],
   "id": "f5c20c8937879b69",
   "outputs": [
    {
     "data": {
      "text/plain": [
       "<Figure size 640x480 with 1 Axes>"
      ],
      "image/png": "[encoded data removed]"
     },
     "metadata": {},
     "output_type": "display_data"
    }
   ],
   "execution_count": 130
  },
  {
   "metadata": {},
   "cell_type": "markdown",
   "source": "#### Aggregation",
   "id": "e59e4551aca0e2a4"
  },
  {
   "cell_type": "code",
   "source": [
    "# AggPE - impact in [ms]\n",
    "df_4 = df_dm2.rename(columns={'latency [ms]': 'DM(2)'})\n",
    "df_4 = df_4.loc[:, ['frame_nr', 'DM(2)']]\n",
    "for f in ROI_OUTLIER_FRAMES:\n",
    "    df_4 = df_4.loc[df_4['frame_nr'] != f]\n",
    "\n",
    "df_5 = df_bev.rename(columns={'latency [ms]': 'BEV'})\n",
    "df_5 = df_5.loc[:, ['frame_nr', 'BEV']]\n",
    "for f in BEV_OUTLIER_FRAMES:\n",
    "    df_5 = df_5.loc[df_5['frame_nr'] != f]\n",
    "\n",
    "df_compare_aggpe = pd.merge(df_4, df_5, how='inner', on='frame_nr')\n",
    "df_compare_aggpe[ftr] = df_compare_aggpe['BEV'] - df_compare_aggpe['DM(2)']\n",
    "\n",
    "res_table.append(['AggPE [ms]', df_compare_aggpe.min()[ftr],\n",
    "                  df_compare_aggpe.mean()[ftr], df_compare_aggpe.median()[ftr],\n",
    "                  df_compare_aggpe.max()[ftr]])"
   ],
   "metadata": {
    "collapsed": false,
    "ExecuteTime": {
     "end_time": "2025-05-16T09:03:34.011546Z",
     "start_time": "2025-05-16T09:03:34.002581Z"
    }
   },
   "id": "d357403a64db8987",
   "outputs": [],
   "execution_count": 131
  },
  {
   "metadata": {
    "ExecuteTime": {
     "end_time": "2025-05-16T09:03:34.112138Z",
     "start_time": "2025-05-16T09:03:34.063798Z"
    }
   },
   "cell_type": "code",
   "source": [
    "# HISTOGRAM\n",
    "AGG_BINS = [46 + i / 10  for i in range(20)]\n",
    "aggpe_counts, _ = np.histogram(df_compare_aggpe[ftr].to_numpy(), bins=AGG_BINS)\n",
    "aggpe_counts = aggpe_counts / np.sum(aggpe_counts) * 100\n",
    "\n",
    "fig, ax = plt.subplots()\n",
    "ax.hist(AGG_BINS[:-1], AGG_BINS, weights=aggpe_counts, label='AggPE', color='#228b22')\n",
    "ax.set_xlabel('Latency Impact [ms]', fontsize=14)\n",
    "ax.set_ylabel('Frames [%]', fontsize=14)\n",
    "ax.set(xticks=[46, 46.5, 47, 47.5, 48], yticks=[i*10 for i in range(6)])\n",
    "ax.tick_params(axis='both', which='major', labelsize=11)\n",
    "\n",
    "plt.show()\n",
    "fig.savefig(os.path.join(fig_dir, 'aggpe_impact_hist.png'))"
   ],
   "id": "61dc45806e0d95e9",
   "outputs": [
    {
     "data": {
      "text/plain": [
       "<Figure size 640x480 with 1 Axes>"
      ],
      "image/png": "[encoded data removed]"
     },
     "metadata": {},
     "output_type": "display_data"
    }
   ],
   "execution_count": 132
  },
  {
   "cell_type": "code",
   "source": [
    "# raw numbers\n",
    "df_res = pd.DataFrame(res_table, columns=['', 'min', 'mean', 'median', 'max'])\n",
    "print(df_res)"
   ],
   "metadata": {
    "collapsed": false,
    "ExecuteTime": {
     "end_time": "2025-05-16T09:03:34.137184Z",
     "start_time": "2025-05-16T09:03:34.134696Z"
    }
   },
   "id": "1abce3678ca3a3e",
   "outputs": [
    {
     "name": "stdout",
     "output_type": "stream",
     "text": [
      "                      min       mean     median         max\n",
      "0    FPE [us] -152.000000  -4.488565  -3.333333  113.000000\n",
      "1   ArPE [us] -104.333333   1.984127   1.333333  133.666667\n",
      "2  AggPE [ms]   46.126000  47.073534  47.402667   47.522667\n"
     ]
    }
   ],
   "execution_count": 133
  },
  {
   "metadata": {},
   "cell_type": "markdown",
   "source": [
    "#### Impact of FPE on Frame Size"
   ],
   "id": "6f59b698ab49ae11"
  },
  {
   "metadata": {
    "ExecuteTime": {
     "end_time": "2025-05-16T09:03:34.204676Z",
     "start_time": "2025-05-16T09:03:34.199163Z"
    }
   },
   "cell_type": "code",
   "source": [
    "# Conversion\n",
    "conv_elements = load_frame_size_data(pipeline='conversion')\n",
    "# RoI\n",
    "roi_elements = load_frame_size_data(pipeline='roi')\n",
    "\n",
    "\n",
    "df_compare_elements = pd.concat([conv_elements.loc[:, 'n_elements'].rename('CONV'),\n",
    "                                roi_elements.loc[:, 'n_elements'].rename('RoI')], axis=1)\n",
    "df_compare_elements['ratio'] = df_compare_elements['RoI'] / df_compare_elements['CONV'] * 100\n",
    "\n",
    "print('min\\t\\t', df_compare_elements.min()['ratio'])\n",
    "print('mean\\t', df_compare_elements.mean()['ratio'])\n",
    "print('median\\t', df_compare_elements.median()['ratio'])\n",
    "print('max\\t\\t', df_compare_elements.max()['ratio'])"
   ],
   "id": "7ed139f0df015344",
   "outputs": [
    {
     "name": "stdout",
     "output_type": "stream",
     "text": [
      "min\t\t 95.36396346526432\n",
      "mean\t 95.55547517144353\n",
      "median\t 95.55843706777317\n",
      "max\t\t 95.65698478561549\n"
     ]
    }
   ],
   "execution_count": 134
  },
  {
   "cell_type": "code",
   "source": [
    "# Number of outlier frames\n",
    "conv_num_outliers = len(df_conversion.loc[df_conversion['latency [ms]'] > 1])\n",
    "roi_num_outliers = len(df_roi.loc[df_roi['latency [ms]'] > 1])\n",
    "dm1_num_outliers = len(df_dm1.loc[df_dm1['latency [ms]'] > 1])\n",
    "dm2_num_outliers = len(df_dm2.loc[df_dm2['latency [ms]'] > 1])\n",
    "print(conv_num_outliers, roi_num_outliers, dm1_num_outliers, dm2_num_outliers)"
   ],
   "metadata": {
    "collapsed": false,
    "ExecuteTime": {
     "end_time": "2025-05-16T09:03:34.265058Z",
     "start_time": "2025-05-16T09:03:34.262529Z"
    }
   },
   "id": "47ad42ba996d3447",
   "outputs": [
    {
     "name": "stdout",
     "output_type": "stream",
     "text": [
      "39 42 42 42\n"
     ]
    }
   ],
   "execution_count": 135
  },
  {
   "metadata": {},
   "cell_type": "markdown",
   "source": "## 2. Precision",
   "id": "5147883365a3f27c"
  },
  {
   "metadata": {
    "ExecuteTime": {
     "end_time": "2025-05-16T09:03:34.327230Z",
     "start_time": "2025-05-16T09:03:34.325903Z"
    }
   },
   "cell_type": "code",
   "source": [
    "# Pipeline 1: RoI\n"
   ],
   "id": "674745bfc936d431",
   "outputs": [],
   "execution_count": 136
  },
  {
   "metadata": {
    "ExecuteTime": {
     "end_time": "2025-05-16T09:03:34.388842Z",
     "start_time": "2025-05-16T09:03:34.387607Z"
    }
   },
   "cell_type": "code",
   "source": [
    "# --- visualize --- #\n",
    "# ToDo\n",
    "\n"
   ],
   "id": "f3a645306f3791de",
   "outputs": [],
   "execution_count": 137
  },
  {
   "metadata": {
    "ExecuteTime": {
     "end_time": "2025-05-16T09:03:34.449909Z",
     "start_time": "2025-05-16T09:03:34.448655Z"
    }
   },
   "cell_type": "code",
   "source": [
    "# Pipeline 2: BEV - max(z)\n"
   ],
   "id": "2a6213336a1e1399",
   "outputs": [],
   "execution_count": 138
  },
  {
   "metadata": {
    "ExecuteTime": {
     "end_time": "2025-05-16T09:03:34.513820Z",
     "start_time": "2025-05-16T09:03:34.510431Z"
    }
   },
   "cell_type": "code",
   "source": [
    "# --- visualize --- #\n",
    "gt_img = Image.open('./figures/precision/bev/000080/ground_truth.png')\n",
    "pal_img = Image.open('./figures/precision/bev/000080/palicus.png')\n",
    "diff = ImageChops.difference(gt_img, pal_img)\n",
    "diff.save('./figures/precision/bev/000080/delta.png')\n",
    "\n",
    "display(gt_img)\n",
    "display(pal_img)\n",
    "display(diff)"
   ],
   "id": "82530b67fb49301e",
   "outputs": [
    {
     "data": {
      "text/plain": [
       "<PIL.PngImagePlugin.PngImageFile image mode=L size=30x30>"
      ],
      "image/png": "[encoded data removed]",
      "image/jpeg": "[encoded data removed]"
     },
     "metadata": {},
     "output_type": "display_data"
    },
    {
     "data": {
      "text/plain": [
       "<PIL.PngImagePlugin.PngImageFile image mode=L size=31x30>"
      ],
      "image/png": "[encoded data removed]",
      "image/jpeg": "[encoded data removed]"
     },
     "metadata": {},
     "output_type": "display_data"
    },
    {
     "data": {
      "text/plain": [
       "<PIL.Image.Image image mode=L size=30x30>"
      ],
      "image/png": "[encoded data removed]",
      "image/jpeg": "[encoded data removed]"
     },
     "metadata": {},
     "output_type": "display_data"
    }
   ],
   "execution_count": 139
  },
  {
   "metadata": {
    "ExecuteTime": {
     "end_time": "2025-05-16T09:03:34.575253Z",
     "start_time": "2025-05-16T09:03:34.573930Z"
    }
   },
   "cell_type": "code",
   "source": [
    "# Pipeline 3: BEV - mean(i)"
   ],
   "id": "eb91e7772828e05b",
   "outputs": [],
   "execution_count": 140
  },
  {
   "metadata": {
    "ExecuteTime": {
     "end_time": "2025-05-16T09:03:34.658616Z",
     "start_time": "2025-05-16T09:03:34.654775Z"
    }
   },
   "cell_type": "code",
   "source": [
    "# --- visualize --- #\n",
    "gt_img = Image.open('./figures/precision/bev_mean/000522/ground_truth.png')\n",
    "pal_img = Image.open('./figures/precision/bev_mean/000522/palicus.png')\n",
    "diff = ImageChops.difference(gt_img, pal_img)\n",
    "diff.save('./figures/precision/bev_mean/000522/delta.png')\n",
    "\n",
    "display(gt_img)\n",
    "display(pal_img)\n",
    "display(diff)"
   ],
   "id": "f275acd8ce3b1022",
   "outputs": [
    {
     "data": {
      "text/plain": [
       "<PIL.PngImagePlugin.PngImageFile image mode=L size=30x30>"
      ],
      "image/png": "[encoded data removed]",
      "image/jpeg": "[encoded data removed]"
     },
     "metadata": {},
     "output_type": "display_data"
    },
    {
     "data": {
      "text/plain": [
       "<PIL.PngImagePlugin.PngImageFile image mode=L size=31x30>"
      ],
      "image/png": "[encoded data removed]",
      "image/jpeg": "[encoded data removed]"
     },
     "metadata": {},
     "output_type": "display_data"
    },
    {
     "data": {
      "text/plain": [
       "<PIL.Image.Image image mode=L size=30x30>"
      ],
      "image/png": "[encoded data removed]",
      "image/jpeg": "[encoded data removed]"
     },
     "metadata": {},
     "output_type": "display_data"
    }
   ],
   "execution_count": 141
  },
  {
   "metadata": {
    "collapsed": false
   },
   "cell_type": "markdown",
   "source": "## 3. Throughput",
   "id": "1c05a82334dc02ab"
  },
  {
   "metadata": {
    "ExecuteTime": {
     "end_time": "2025-05-16T09:03:34.722572Z",
     "start_time": "2025-05-16T09:03:34.719039Z"
    }
   },
   "cell_type": "code",
   "source": [
    "# load the ground truth\n",
    "all_gt = pd.read_csv('./data/conversion/throughput/frame_size_gt.csv').sum()['n_elements']\n",
    "filtered_gt = pd.read_csv('./data/roi/throughput/frame_size_gt.csv').sum()['n_elements']\n",
    "bev_gt = pd.read_csv('./data/bev/throughput/frame_size_gt.csv').sum()['n_elements']\n",
    "\n",
    "print(all_gt, filtered_gt, bev_gt)"
   ],
   "id": "aea4ebdbf434981f",
   "outputs": [
    {
     "name": "stdout",
     "output_type": "stream",
     "text": [
      "30381904 29031584 133378\n"
     ]
    }
   ],
   "execution_count": 142
  },
  {
   "metadata": {
    "ExecuteTime": {
     "end_time": "2025-05-16T09:03:34.806929Z",
     "start_time": "2025-05-16T09:03:34.784057Z"
    }
   },
   "cell_type": "code",
   "source": [
    "# -- overview --\n",
    "total_elem = []\n",
    "cols = ['Pipeline', 'GT', '8Mbps', '16Mbps', '32Mbps', '64Mbps', '128Mbps']\n",
    "for p in ['conversion', 'roi', 'dm1', 'dm2', 'bev']:\n",
    "    gt = all_gt if p == 'conversion' else bev_gt if p == 'bev' else filtered_gt\n",
    "    log = [p, gt]\n",
    "    for t in [8, 16, 32, 64, 128]:\n",
    "        df = load_frame_size_data(pipeline=p, throughput=t)\n",
    "        total = df.sum()['n_elements']\n",
    "        log.append(total)\n",
    "    total_elem.append(log)\n",
    "\n",
    "df_res = pd.DataFrame(np.array(total_elem), columns=cols)\n",
    "df_res.to_csv(os.path.join(OUT_DIR, 'throughput_overview.csv'), index=False)\n",
    "print(df_res)"
   ],
   "id": "178e2dc0ba1c6b23",
   "outputs": [
    {
     "name": "stdout",
     "output_type": "stream",
     "text": [
      "     Pipeline        GT     8Mbps    16Mbps    32Mbps    64Mbps   128Mbps\n",
      "0  conversion  30381904  30381904  30381904  30381904  30381904  30381904\n",
      "1         roi  29031584  29031573  29031573  29031573  29031573  29030687\n",
      "2         dm1  29031584  29031573  29031573  29031573  29031573  29031189\n",
      "3         dm2  29031584  29031573  29031573  29031573  29031573  29031573\n",
      "4         bev    133378    139197    139197    139197    139197    139196\n"
     ]
    }
   ],
   "execution_count": 143
  },
  {
   "metadata": {},
   "cell_type": "markdown",
   "source": "### Frames Deviating in Size",
   "id": "574caafe80e9f0af"
  },
  {
   "metadata": {
    "ExecuteTime": {
     "end_time": "2025-05-16T09:03:34.851895Z",
     "start_time": "2025-05-16T09:03:34.846954Z"
    }
   },
   "cell_type": "code",
   "source": [
    "# RoI: 8 Mbps - 128 Mbps\n",
    "df_8 = load_frame_size_data(pipeline='roi', throughput=8).rename(columns={'n_elements': '8 Mbps'})\n",
    "df_128 = load_frame_size_data(pipeline='roi', throughput=128).rename(columns={'n_elements': '128 Mbps'})\n",
    "\n",
    "df_compare = pd.merge(df_8, df_128, how='inner', on='frame_nr')\n",
    "df_compare['diff'] = df_compare['8 Mbps'] - df_compare['128 Mbps']\n",
    "df_compare = df_compare.loc[df_compare['diff'] != 0]\n",
    "print(df_compare)"
   ],
   "id": "91db13967a8e826c",
   "outputs": [
    {
     "name": "stdout",
     "output_type": "stream",
     "text": [
      "     frame_nr  8 Mbps  128 Mbps  diff\n",
      "28         29   55254     54870   384\n",
      "41         42   55285     55167   118\n",
      "356       357   55243     54859   384\n"
     ]
    }
   ],
   "execution_count": 144
  },
  {
   "metadata": {
    "ExecuteTime": {
     "end_time": "2025-05-16T09:03:34.914858Z",
     "start_time": "2025-05-16T09:03:34.909822Z"
    }
   },
   "cell_type": "code",
   "source": [
    "# DM (1): 8 Mbps - 128 Mbps\n",
    "df_8 = load_frame_size_data(pipeline='dm1', throughput=8).rename(columns={'n_elements': '8 Mbps'})\n",
    "df_128 = load_frame_size_data(pipeline='dm1', throughput=128).rename(columns={'n_elements': '128 Mbps'})\n",
    "\n",
    "df_compare = pd.merge(df_8, df_128, how='inner', on='frame_nr')\n",
    "df_compare['diff'] = df_compare['8 Mbps'] - df_compare['128 Mbps']\n",
    "df_compare = df_compare.loc[df_compare['diff'] != 0]\n",
    "print(df_compare)"
   ],
   "id": "c1fe3ed0643c0451",
   "outputs": [
    {
     "name": "stdout",
     "output_type": "stream",
     "text": [
      "     frame_nr  8 Mbps  128 Mbps  diff\n",
      "108       109   55281     54897   384\n"
     ]
    }
   ],
   "execution_count": 145
  },
  {
   "metadata": {
    "ExecuteTime": {
     "end_time": "2025-05-16T09:03:34.978254Z",
     "start_time": "2025-05-16T09:03:34.973017Z"
    }
   },
   "cell_type": "code",
   "source": [
    "# BEV: 8 Mbps - 128 Mbps\n",
    "df_8 = load_frame_size_data(pipeline='bev', throughput=8).rename(columns={'n_elements': '8 Mbps'})\n",
    "df_128 = load_frame_size_data(pipeline='bev', throughput=128).rename(columns={'n_elements': '128 Mbps'})\n",
    "\n",
    "df_compare = pd.merge(df_8, df_128, how='inner', on='frame_nr')\n",
    "df_compare['diff'] = df_compare['8 Mbps'] - df_compare['128 Mbps']\n",
    "df_compare = df_compare.loc[df_compare['diff'] != 0]\n",
    "print(df_compare)"
   ],
   "id": "798bb78318e003bb",
   "outputs": [
    {
     "name": "stdout",
     "output_type": "stream",
     "text": [
      "     frame_nr  8 Mbps  128 Mbps  diff\n",
      "420       421     263       262     1\n"
     ]
    }
   ],
   "execution_count": 146
  },
  {
   "metadata": {},
   "cell_type": "markdown",
   "source": "### BEV Processing Time",
   "id": "f6104c02803497ad"
  },
  {
   "metadata": {
    "ExecuteTime": {
     "end_time": "2025-05-16T09:03:35.041185Z",
     "start_time": "2025-05-16T09:03:35.035411Z"
    }
   },
   "cell_type": "code",
   "source": [
    "df_lat_8 = pd.read_csv('./data/bev/throughput/latency/latency_8.csv').loc[1:525]\n",
    "df_lat_16 = pd.read_csv('./data/bev/throughput/latency/latency_16.csv').loc[1:525]\n",
    "df_lat_32 = pd.read_csv('./data/bev/throughput/latency/latency_32.csv').loc[1:525]\n",
    "df_lat_64 = pd.read_csv('./data/bev/throughput/latency/latency_64.csv').loc[1:525]\n",
    "df_lat_128 = pd.read_csv('./data/bev/throughput/latency/latency_128.csv').loc[1:525]\n",
    "\n",
    "print('\\t\\t'.join(cols[2:]))\n",
    "print(round(df_lat_8.mean()['latency [ms]'], 3), '\\t\\t', round(df_lat_16.mean()['latency [ms]'], 3), '\\t', round(df_lat_32.mean()['latency [ms]'], 3), '\\t', round(df_lat_64.mean()['latency [ms]'], 3), '\\t\\t', round(df_lat_128.mean()['latency [ms]'], 3))\n",
    "\n"
   ],
   "id": "257c7e921968e0f8",
   "outputs": [
    {
     "name": "stdout",
     "output_type": "stream",
     "text": [
      "8Mbps\t\t16Mbps\t\t32Mbps\t\t64Mbps\t\t128Mbps\n",
      "46.145 \t\t 23.213 \t 11.614 \t 6.004 \t\t 3.151\n"
     ]
    }
   ],
   "execution_count": 147
  }
 ],
 "metadata": {
  "kernelspec": {
   "display_name": "Python 3",
   "language": "python",
   "name": "python3"
  },
  "language_info": {
   "codemirror_mode": {
    "name": "ipython",
    "version": 2
   },
   "file_extension": ".py",
   "mimetype": "text/x-python",
   "name": "python",
   "nbconvert_exporter": "python",
   "pygments_lexer": "ipython2",
   "version": "2.7.6"
  }
 },
 "nbformat": 4,
 "nbformat_minor": 5
}
