{
 "cells": [
  {
   "cell_type": "markdown",
   "source": [
    "# Master's Thesis Experiments Report"
   ],
   "metadata": {
    "collapsed": false
   },
   "id": "60874c9d5a314cdb"
  },
  {
   "cell_type": "code",
   "id": "initial_id",
   "metadata": {
    "collapsed": true,
    "ExecuteTime": {
     "end_time": "2025-05-08T15:14:53.406568600Z",
     "start_time": "2025-05-08T15:14:52.107993800Z"
    }
   },
   "source": [
    "import os\n",
    "import numpy as np\n",
    "import pandas as pd\n",
    "from matplotlib import pyplot as plt\n",
    "from PIL import Image, ImageChops\n",
    "\n",
    "from scripts.utils import load_latency_data, load_frame_size_data, clean_latency_data, load_precision_data"
   ],
   "outputs": [],
   "execution_count": 1
  },
  {
   "cell_type": "code",
   "source": [
    "# constants\n",
    "FIG_DIR = './figures/{}'\n",
    "OUT_DIR = './data/out'\n",
    "if not os.path.exists(OUT_DIR):\n",
    "    os.makedirs(OUT_DIR)"
   ],
   "metadata": {
    "collapsed": false,
    "ExecuteTime": {
     "end_time": "2025-05-08T15:14:53.421580Z",
     "start_time": "2025-05-08T15:14:53.407568800Z"
    }
   },
   "id": "81d2196f215380c6",
   "outputs": [],
   "execution_count": 2
  },
  {
   "cell_type": "markdown",
   "source": [
    "## 1.   Pipeline Latency\n",
    "The data was replayed at 8 Mbps.\n",
    "For each frame f, we measure the timedelta between the last emitted LiDAR data packet and\n",
    "the last incoming Palicus data packet containing data associated with f.\n",
    "We exclude the first and the last frame to ensure that we only consider the latency of full frames."
   ],
   "metadata": {
    "collapsed": false
   },
   "id": "7735df7de6c8bb2f"
  },
  {
   "cell_type": "code",
   "source": [
    "fig_dir = FIG_DIR.format('latency')\n",
    "if not os.path.exists(fig_dir):\n",
    "    os.makedirs(fig_dir)"
   ],
   "metadata": {
    "collapsed": false,
    "ExecuteTime": {
     "end_time": "2025-05-08T15:14:53.450632800Z",
     "start_time": "2025-05-08T15:14:53.422582Z"
    }
   },
   "id": "45e382a0e3d6ab82",
   "outputs": [],
   "execution_count": 3
  },
  {
   "cell_type": "code",
   "source": [
    "# Load the data\n",
    "df_conversion = load_latency_data(pipeline='conversion')\n",
    "df_roi = load_latency_data(pipeline='roi')\n",
    "df_dm1 = load_latency_data(pipeline='dm1')\n",
    "df_dm2 = load_latency_data(pipeline='dm2')\n",
    "df_bev = load_latency_data(pipeline='bev')"
   ],
   "metadata": {
    "collapsed": false,
    "ExecuteTime": {
     "end_time": "2025-05-08T15:14:53.468630500Z",
     "start_time": "2025-05-08T15:14:53.440631400Z"
    }
   },
   "id": "156ddd31632e48ba",
   "outputs": [],
   "execution_count": 4
  },
  {
   "cell_type": "code",
   "source": [
    "# tabular representation\n",
    "l = 'latency [ms]'\n",
    "\n",
    "results = [['min', df_conversion.min()[l], df_roi.min()[l], df_dm1.min()[l], df_dm2.min()[l], df_bev.min()[l]],\n",
    "           ['mean', df_conversion.mean()[l], df_roi.mean()[l], df_dm1.mean()[l], df_dm2.mean()[l], df_bev.mean()[l]],\n",
    "           ['median', df_conversion.median()[l], df_roi.median()[l], df_dm1.median()[l], df_dm2.median()[l],\n",
    "            df_bev.median()[l]],\n",
    "           ['max', df_conversion.max()[l], df_roi.max()[l], df_dm1.max()[l], df_dm2.max()[l], df_bev.max()[l]]\n",
    "           ]\n",
    "\n",
    "df_latency_results = pd.DataFrame(results, columns=['', 'CONV', 'RoI', 'DM (1)', 'DM (2)', 'BEV'])\n",
    "print(df_latency_results)\n"
   ],
   "metadata": {
    "collapsed": false,
    "ExecuteTime": {
     "end_time": "2025-05-08T15:14:53.503438100Z",
     "start_time": "2025-05-08T15:14:53.471637800Z"
    }
   },
   "id": "7b266cd23e0d8087",
   "outputs": [
    {
     "name": "stdout",
     "output_type": "stream",
     "text": [
      "               CONV       RoI    DM (1)    DM (2)        BEV\n",
      "0     min  0.197800  0.191800  0.190600  0.189600   0.298000\n",
      "1    mean  0.390621  0.393498  0.393449  0.392682  46.147741\n",
      "2  median  0.300200  0.298000  0.298000  0.297600  47.711000\n",
      "3     max  1.605600  1.603000  1.582800  1.617200  47.828400\n"
     ]
    }
   ],
   "execution_count": 5
  },
  {
   "cell_type": "code",
   "source": [
    "# computation time: conversion vs. RoI vs. DepthMap\n",
    "df_conversion['latency [us]'] = df_conversion['latency [ms]'] * 1000\n",
    "df_roi['latency [us]'] = df_roi['latency [ms]'] * 1000\n",
    "df_dm1['latency [us]'] = df_dm1['latency [ms]'] * 1000\n",
    "df_dm2['latency [us]'] = df_dm2['latency [ms]'] * 1000\n",
    "\n",
    "fig, ax = plt.subplots()\n",
    "ax.boxplot(df_conversion['latency [us]'].to_numpy(), positions=[2], widths=[1],\n",
    "           patch_artist=True, showmeans=False, showfliers=False, labels=['CONV'],\n",
    "           boxprops={'facecolor': '#104E8B'}, medianprops={'color': 'white'})\n",
    "ax.boxplot(df_roi['latency [us]'].to_numpy(), positions=[4], widths=[1],\n",
    "           patch_artist=True, showmeans=False, showfliers=False, labels=['RoI'], \n",
    "           boxprops={'facecolor': '#1090FF'}, medianprops={'color': 'white'})\n",
    "ax.boxplot(df_dm1['latency [us]'].to_numpy(), positions=[6], widths=[1],\n",
    "           patch_artist=True, showmeans=False, showfliers=False, labels=['DM (1)'], \n",
    "           boxprops={'facecolor': '#1C86EE'}, medianprops={'color': 'white'})\n",
    "ax.boxplot(df_dm2['latency [us]'].to_numpy(), positions=[8], widths=[1],\n",
    "           patch_artist=True, showmeans=False, showfliers=False, labels=['DM (2)'], \n",
    "           boxprops={'facecolor': '#1874CD'}, medianprops={'color': 'white'})\n",
    "ax.set(xlim=(0, 10))\n",
    "ax.set(ylim=(250, 350), yticks=[250 + i * 50 for i in range(3)], ylabel='Latency [us]')\n",
    "plt.show()\n",
    "fig.savefig(os.path.join(fig_dir, 'conv_roi_dm.png'))"
   ],
   "metadata": {
    "collapsed": false,
    "ExecuteTime": {
     "end_time": "2025-05-08T15:14:53.655868200Z",
     "start_time": "2025-05-08T15:14:53.504439900Z"
    }
   },
   "id": "2c1510cfa56a574d",
   "outputs": [
    {
     "name": "stderr",
     "output_type": "stream",
     "text": [
      "C:\\Users\\sophi\\AppData\\Local\\Temp\\ipykernel_27336\\2474037712.py:8: MatplotlibDeprecationWarning: The 'labels' parameter of boxplot() has been renamed 'tick_labels' since Matplotlib 3.9; support for the old name will be dropped in 3.11.\n",
      "  ax.boxplot(df_conversion['latency [us]'].to_numpy(), positions=[2], widths=[1],\n",
      "C:\\Users\\sophi\\AppData\\Local\\Temp\\ipykernel_27336\\2474037712.py:11: MatplotlibDeprecationWarning: The 'labels' parameter of boxplot() has been renamed 'tick_labels' since Matplotlib 3.9; support for the old name will be dropped in 3.11.\n",
      "  ax.boxplot(df_roi['latency [us]'].to_numpy(), positions=[4], widths=[1],\n",
      "C:\\Users\\sophi\\AppData\\Local\\Temp\\ipykernel_27336\\2474037712.py:14: MatplotlibDeprecationWarning: The 'labels' parameter of boxplot() has been renamed 'tick_labels' since Matplotlib 3.9; support for the old name will be dropped in 3.11.\n",
      "  ax.boxplot(df_dm1['latency [us]'].to_numpy(), positions=[6], widths=[1],\n",
      "C:\\Users\\sophi\\AppData\\Local\\Temp\\ipykernel_27336\\2474037712.py:17: MatplotlibDeprecationWarning: The 'labels' parameter of boxplot() has been renamed 'tick_labels' since Matplotlib 3.9; support for the old name will be dropped in 3.11.\n",
      "  ax.boxplot(df_dm2['latency [us]'].to_numpy(), positions=[8], widths=[1],\n"
     ]
    },
    {
     "data": {
      "text/plain": "<Figure size 640x480 with 1 Axes>",
      "image/png": "[encoded data removed]"
     },
     "metadata": {},
     "output_type": "display_data"
    }
   ],
   "execution_count": 6
  },
  {
   "cell_type": "code",
   "source": [
    "# computation time: BEV vs. MAX\n",
    "fig, ax = plt.subplots()\n",
    "ax.boxplot(df_bev['latency [ms]'].to_numpy(), positions=[2], widths=[1],\n",
    "           patch_artist=True, showmeans=False, showfliers=False, labels=['BEV'], \n",
    "           boxprops={'facecolor': '#FF7F00'}, medianprops={'color': 'white'})\n",
    "ax.set(xlim=(0, 4))\n",
    "ax.set(ylabel='Latency [ms]')\n",
    "plt.show()\n",
    "fig.savefig(os.path.join(fig_dir, 'bev.png'))"
   ],
   "metadata": {
    "collapsed": false,
    "ExecuteTime": {
     "end_time": "2025-05-08T15:14:53.736428800Z",
     "start_time": "2025-05-08T15:14:53.625331600Z"
    }
   },
   "id": "435cf8911897609c",
   "outputs": [
    {
     "name": "stderr",
     "output_type": "stream",
     "text": [
      "C:\\Users\\sophi\\AppData\\Local\\Temp\\ipykernel_27336\\1234596885.py:3: MatplotlibDeprecationWarning: The 'labels' parameter of boxplot() has been renamed 'tick_labels' since Matplotlib 3.9; support for the old name will be dropped in 3.11.\n",
      "  ax.boxplot(df_bev['latency [ms]'].to_numpy(), positions=[2], widths=[1],\n"
     ]
    },
    {
     "data": {
      "text/plain": "<Figure size 640x480 with 1 Axes>",
      "image/png": "[encoded data removed]"
     },
     "metadata": {},
     "output_type": "display_data"
    }
   ],
   "execution_count": 7
  },
  {
   "cell_type": "markdown",
   "source": [
    "### Latency Impact of PEs"
   ],
   "metadata": {
    "collapsed": false
   },
   "id": "55c0904025687ba1"
  },
  {
   "cell_type": "code",
   "source": [
    "CONV_OUTLIER_FRAMES = df_conversion.loc[df_conversion['latency [ms]'] > 1.0, 'frame_nr'].to_numpy()\n",
    "ROI_OUTLIER_FRAMES = df_roi.loc[df_roi['latency [ms]'] > 1.0, 'frame_nr'].to_numpy()\n",
    "BEV_OUTLIER_FRAMES = df_bev.loc[df_bev['latency [ms]'] < 1.0, 'frame_nr'].to_numpy()\n",
    "\n",
    "FPE_EXCLUDE_FRAMES = np.concat([np.setdiff1d(CONV_OUTLIER_FRAMES, ROI_OUTLIER_FRAMES), np.setdiff1d(ROI_OUTLIER_FRAMES, CONV_OUTLIER_FRAMES)])\n",
    "AGGPE_EXCLUDE_FRAMES = np.concat([ROI_OUTLIER_FRAMES, BEV_OUTLIER_FRAMES])"
   ],
   "metadata": {
    "collapsed": false,
    "ExecuteTime": {
     "end_time": "2025-05-08T15:14:53.744443200Z",
     "start_time": "2025-05-08T15:14:53.692864200Z"
    }
   },
   "id": "5a2b6032960fa7ce",
   "outputs": [],
   "execution_count": 8
  },
  {
   "cell_type": "code",
   "source": [
    "ftr = 'diff'\n",
    "\n",
    "\n",
    "# FPE - impact in [us]\n",
    "df_1 = df_conversion.rename(columns={'latency [us]': 'CONV'})\n",
    "df_1 = df_1.loc[:, ['frame_nr', 'CONV']]\n",
    "for f in FPE_EXCLUDE_FRAMES:\n",
    "    df_1 = df_1.loc[df_1['frame_nr'] != f]\n",
    "\n",
    "df_2 = df_roi.rename(columns={'latency [us]': 'RoI'})\n",
    "df_2 = df_2.loc[:, ['frame_nr', 'RoI']]\n",
    "\n",
    "# FPE - impact in [us]\n",
    "df_compare_fpe = pd.merge(df_1, df_2, how='inner', on='frame_nr')\n",
    "df_compare_fpe[ftr] = df_compare_fpe['RoI'] - df_compare_fpe['CONV']\n",
    "\n",
    "res_table = [['FPE [us]', df_compare_fpe.min()[ftr], df_compare_fpe.mean()[ftr], df_compare_fpe.median()[ftr], df_compare_fpe.max()[ftr]]]\n",
    "\n"
   ],
   "metadata": {
    "collapsed": false,
    "ExecuteTime": {
     "end_time": "2025-05-08T15:14:53.745437400Z",
     "start_time": "2025-05-08T15:14:53.707900900Z"
    }
   },
   "id": "8471fc8488a6d61c",
   "outputs": [],
   "execution_count": 9
  },
  {
   "cell_type": "code",
   "source": [
    "# visualize - histogram\n",
    "FPE_BINS = [i*20 - 120 for i in range(13)]\n",
    "fpe_counts, _ = np.histogram(df_compare_fpe[ftr].to_numpy(), bins=FPE_BINS)\n",
    "fpe_counts = fpe_counts / len(df_1) * 100\n",
    "\n",
    "fig, ax = plt.subplots()\n",
    "ax.hist(FPE_BINS[:-1], FPE_BINS, weights=fpe_counts, label='RoI - CONV', color='#104E8B')\n",
    "ax.set(xticks=[i*40 - 120 for i in range(7)],\n",
    "       yticks=[i*10 for i in range(6)])\n",
    "\n",
    "ax.set_xlabel('Latency Impact [us]', fontsize=14)\n",
    "ax.set_ylabel('Frames [%]', fontsize=14)\n",
    "ax.tick_params(axis='both', which='major', labelsize=11)\n",
    "plt.show()\n",
    "fig.savefig(os.path.join(fig_dir, 'fpe_impact_hist.png'))"
   ],
   "metadata": {
    "collapsed": false,
    "ExecuteTime": {
     "end_time": "2025-05-08T15:14:53.845213700Z",
     "start_time": "2025-05-08T15:14:53.724912400Z"
    }
   },
   "id": "2639cf5468dee5bc",
   "outputs": [
    {
     "data": {
      "text/plain": "<Figure size 640x480 with 1 Axes>",
      "image/png": "[encoded data removed]"
     },
     "metadata": {},
     "output_type": "display_data"
    }
   ],
   "execution_count": 10
  },
  {
   "cell_type": "code",
   "execution_count": 11,
   "outputs": [
    {
     "data": {
      "text/plain": "<Figure size 640x480 with 1 Axes>",
      "image/png": "[encoded data removed]"
     },
     "metadata": {},
     "output_type": "display_data"
    }
   ],
   "source": [
    "# visualize - per frame\n",
    "df_compare_fpe.sort_values(by='frame_nr', ascending=True)\n",
    "labels = df_compare_fpe.loc[:, 'frame_nr'].to_numpy()\n",
    "data = df_compare_fpe.loc[:, ftr].to_numpy()\n",
    "fig, ax = plt.subplots()\n",
    "ax.bar(x=labels, height=data, color=['green' if i <= 0 else 'red' for i in data])\n",
    "ax.set_ylabel('Latency Impact [us]', fontsize=14)\n",
    "ax.set(xticks=[])\n",
    "ax.set(yticks=[i*50 - 250 for i in range(9)])\n",
    "ax.tick_params(axis='both', which='major', labelsize=11)\n",
    "\n",
    "plt.show()\n",
    "fig.savefig(os.path.join(fig_dir, 'fpe_impact_bar.png'))"
   ],
   "metadata": {
    "collapsed": false,
    "ExecuteTime": {
     "end_time": "2025-05-08T15:14:54.192655500Z",
     "start_time": "2025-05-08T15:14:53.817438700Z"
    }
   },
   "id": "92638700858fbc6d"
  },
  {
   "cell_type": "code",
   "source": [
    "# ArPE - impact in [us]\n",
    "\n",
    "df_3 = df_dm1.rename(columns={'latency [us]': 'DM (1)'})\n",
    "df_3 = df_3.loc[:, ['frame_nr', 'DM (1)']]\n",
    "\n",
    "df_4 = df_dm2.rename(columns={'latency [us]': 'DM (2)'})\n",
    "df_4 = df_4.loc[:, ['frame_nr', 'DM (2)']]\n",
    "    \n",
    "df_compare_arpe = pd.merge(df_2, df_3, how='inner', on='frame_nr')\n",
    "df_compare_arpe[ftr] = df_compare_arpe['DM (1)'] - df_compare_arpe['RoI']\n",
    "\n",
    "res_table.append(['ArPE [us]', df_compare_arpe.min()[ftr], df_compare_arpe.mean()[ftr], df_compare_arpe.median()[ftr], df_compare_arpe.max()[ftr]])"
   ],
   "metadata": {
    "collapsed": false,
    "ExecuteTime": {
     "end_time": "2025-05-08T15:14:54.208662200Z",
     "start_time": "2025-05-08T15:14:54.194654500Z"
    }
   },
   "id": "584c214306f12211",
   "outputs": [],
   "execution_count": 12
  },
  {
   "cell_type": "code",
   "execution_count": 13,
   "outputs": [
    {
     "data": {
      "text/plain": "<Figure size 640x480 with 1 Axes>",
      "image/png": "[encoded data removed]"
     },
     "metadata": {},
     "output_type": "display_data"
    }
   ],
   "source": [
    "# visualize - histogram\n",
    "ARPE_BINS = FPE_BINS\n",
    "arpe_counts, _ = np.histogram(df_compare_arpe[ftr].to_numpy(), bins=ARPE_BINS)\n",
    "arpe_counts = arpe_counts / len(df_compare_arpe) * 100\n",
    "\n",
    "fig, ax = plt.subplots()\n",
    "ax.hist(ARPE_BINS[:-1], ARPE_BINS, weights=arpe_counts, label='DM (1) - RoI', color='#104E8B')\n",
    "ax.set(xticks=[i*40-120 for i in range(7)],\n",
    "       yticks=[i*10 for i in range(6)])\n",
    "ax.set_xlabel('Latency Impact [us]', fontsize=14)\n",
    "ax.set_ylabel('Frames [%]', fontsize=14)\n",
    "ax.tick_params(axis='both', which='major', labelsize=11)\n",
    "plt.show()\n",
    "fig.savefig(os.path.join(fig_dir, 'arpe_impact_hist.png'))"
   ],
   "metadata": {
    "collapsed": false,
    "ExecuteTime": {
     "end_time": "2025-05-08T15:14:54.383755900Z",
     "start_time": "2025-05-08T15:14:54.210654400Z"
    }
   },
   "id": "665bed472b51e4af"
  },
  {
   "cell_type": "code",
   "source": [
    "df_compare_arpe.sort_values(by='frame_nr', inplace=True)\n",
    "labels = df_compare_arpe.loc[:, 'frame_nr'].to_numpy()\n",
    "data = df_compare_arpe.loc[:, ftr].to_numpy()\n",
    "\n",
    "fig, ax = plt.subplots()\n",
    "ax.bar(x=labels, height=data, color=['green' if i <= 0 else 'red' for i in data])\n",
    "ax.set_ylabel('Latency Impact [us]', fontsize=14)\n",
    "ax.set(xticks=[])\n",
    "ax.set(yticks=[i*50 - 150 for i in range(7)])\n",
    "ax.tick_params(axis='both', which='major', labelsize=11)\n",
    "\n",
    "plt.show()\n",
    "fig.savefig(os.path.join(fig_dir, 'arpe_impact_bar.png'))\n",
    "\n",
    "\n"
   ],
   "metadata": {
    "collapsed": false,
    "ExecuteTime": {
     "end_time": "2025-05-08T15:14:54.732836300Z",
     "start_time": "2025-05-08T15:14:54.352332700Z"
    }
   },
   "id": "51d354c79ee52ee6",
   "outputs": [
    {
     "data": {
      "text/plain": "<Figure size 640x480 with 1 Axes>",
      "image/png": "[encoded data removed]"
     },
     "metadata": {},
     "output_type": "display_data"
    }
   ],
   "execution_count": 14
  },
  {
   "cell_type": "code",
   "source": [
    "# AggPE - [ms]\n",
    "df_5 = df_bev.rename(columns={'latency [ms]': 'BEV'})\n",
    "df_5 = df_5.loc[:, ['frame_nr', 'BEV']]\n",
    "for f in AGGPE_EXCLUDE_FRAMES:\n",
    "    df_5 = df_5.loc[df_5['frame_nr'] != f]\n",
    "\n",
    "df_4['DM (2)'] /= 1000 # convert to ms\n",
    "\n",
    "df_compare_aggpe = pd.merge(df_4, df_5, how='inner', on='frame_nr')\n",
    "df_compare_aggpe[ftr] = df_compare_aggpe['BEV'] - df_compare_aggpe['DM (2)']\n",
    "\n",
    "res_table.append(['AggPE [ms]', df_compare_aggpe.min()[ftr], df_compare_aggpe.mean()[ftr], df_compare_aggpe.median()[ftr], df_compare_aggpe.max()[ftr]])"
   ],
   "metadata": {
    "collapsed": false,
    "ExecuteTime": {
     "end_time": "2025-05-08T15:14:54.768218800Z",
     "start_time": "2025-05-08T15:14:54.734836700Z"
    }
   },
   "id": "d357403a64db8987",
   "outputs": [],
   "execution_count": 15
  },
  {
   "metadata": {
    "ExecuteTime": {
     "end_time": "2025-05-08T15:16:04.684350Z",
     "start_time": "2025-05-08T15:16:04.558813500Z"
    }
   },
   "cell_type": "code",
   "source": [
    "# visualize - histogram\n",
    "AGG_BINS = [46 + i / 10  for i in range(20)]\n",
    "aggpe_counts, aggpe_bins = np.histogram(df_compare_aggpe[ftr].to_numpy(), bins=AGG_BINS)\n",
    "aggpe_counts = aggpe_counts / len(df_compare_aggpe) * 100\n",
    "\n",
    "fig, ax = plt.subplots()\n",
    "ax.hist(AGG_BINS[:-1], AGG_BINS, weights=aggpe_counts, label='AggPE', color='#104E8B')\n",
    "ax.set(xticks=[i*0.5 + 46 for i in range(5)])\n",
    "\n",
    "ax.set_xlabel('Latency Impact [ms]', fontsize=14)\n",
    "ax.set_ylabel('Frames [%]', fontsize=14)\n",
    "ax.tick_params(axis='both', which='major', labelsize=11)\n",
    "plt.show()\n",
    "fig.savefig(os.path.join(fig_dir, 'aggpe_impact_hist.png'))"
   ],
   "id": "61dc45806e0d95e9",
   "outputs": [
    {
     "data": {
      "text/plain": "<Figure size 640x480 with 1 Axes>",
      "image/png": "[encoded data removed]"
     },
     "metadata": {},
     "output_type": "display_data"
    }
   ],
   "execution_count": 30
  },
  {
   "cell_type": "code",
   "execution_count": 17,
   "outputs": [
    {
     "data": {
      "text/plain": "<Figure size 640x480 with 1 Axes>",
      "image/png": "[encoded data removed]"
     },
     "metadata": {},
     "output_type": "display_data"
    }
   ],
   "source": [
    "# visualize - bar\n",
    "df_compare_aggpe.sort_values(by='frame_nr', inplace=True)\n",
    "labels = df_compare_aggpe.loc[:, 'frame_nr'].to_numpy()\n",
    "data = df_compare_aggpe.loc[:, ftr].to_numpy()\n",
    "\n",
    "fig, ax = plt.subplots()\n",
    "ax.bar(x=labels, height=data, color=['green' if i <= 0 else 'red' for i in data])\n",
    "ax.set_ylabel('Latency Impact [ms]', fontsize=14)\n",
    "ax.set(xticks=[])\n",
    "ax.set(yticks=[i*5 for i in range(11)])\n",
    "ax.tick_params(axis='both', which='major', labelsize=11)\n",
    "\n",
    "plt.show()\n",
    "fig.savefig(os.path.join(fig_dir, 'aggpe_impact_bar.png'))"
   ],
   "metadata": {
    "collapsed": false,
    "ExecuteTime": {
     "end_time": "2025-05-08T15:14:55.219787100Z",
     "start_time": "2025-05-08T15:14:54.858177500Z"
    }
   },
   "id": "ff018ce37ab38cee"
  },
  {
   "cell_type": "code",
   "source": [
    "# raw numbers\n",
    "df_res = pd.DataFrame(res_table, columns=['', 'min', 'mean', 'median', 'max'])\n",
    "print(df_res)"
   ],
   "metadata": {
    "collapsed": false,
    "ExecuteTime": {
     "end_time": "2025-05-08T15:14:55.240315900Z",
     "start_time": "2025-05-08T15:14:55.219787100Z"
    }
   },
   "id": "1abce3678ca3a3e",
   "outputs": [
    {
     "name": "stdout",
     "output_type": "stream",
     "text": [
      "                    min       mean   median       max\n",
      "0    FPE [us] -263.8000  -3.561390  -2.5000  165.2000\n",
      "1   ArPE [us] -106.8000  -0.048762   0.0000   94.0000\n",
      "2  AggPE [ms]   46.1418  47.079505  47.4084   47.5284\n"
     ]
    }
   ],
   "execution_count": 18
  },
  {
   "metadata": {},
   "cell_type": "markdown",
   "source": [
    "#### Impact of FPE on Frame Size"
   ],
   "id": "6f59b698ab49ae11"
  },
  {
   "metadata": {
    "ExecuteTime": {
     "end_time": "2025-05-08T15:14:55.279316200Z",
     "start_time": "2025-05-08T15:14:55.235796500Z"
    }
   },
   "cell_type": "code",
   "source": [
    "# Conversion\n",
    "conv_elements = load_frame_size_data(pipeline='conversion')\n",
    "# RoI\n",
    "roi_elements = load_frame_size_data(pipeline='roi')\n",
    "\n",
    "\n",
    "df_compare_elements = pd.concat([conv_elements.loc[:, 'n_elements'].rename('CONV'),\n",
    "                                roi_elements.loc[:, 'n_elements'].rename('RoI')], axis=1)\n",
    "df_compare_elements['ratio'] = df_compare_elements['RoI'] / df_compare_elements['CONV'] * 100\n",
    "\n",
    "print('min\\t\\t', df_compare_elements.min()['ratio'])\n",
    "print('mean\\t', df_compare_elements.mean()['ratio'])\n",
    "print('median\\t', df_compare_elements.median()['ratio'])\n",
    "print('max\\t\\t', df_compare_elements.max()['ratio'])"
   ],
   "id": "7ed139f0df015344",
   "outputs": [
    {
     "name": "stdout",
     "output_type": "stream",
     "text": [
      "min\t\t 95.36396346526432\n",
      "mean\t 95.55547517144353\n",
      "median\t 95.55843706777317\n",
      "max\t\t 95.65698478561549\n"
     ]
    }
   ],
   "execution_count": 19
  },
  {
   "cell_type": "code",
   "source": [
    "# Number of outlier frames\n",
    "conv_num_outliers = len(df_conversion.loc[df_conversion['latency [ms]'] > 1])\n",
    "roi_num_outliers = len(df_roi.loc[df_roi['latency [ms]'] > 1])\n",
    "dm1_num_outliers = len(df_dm1.loc[df_dm1['latency [ms]'] > 1])\n",
    "dm2_num_outliers = len(df_dm2.loc[df_dm2['latency [ms]'] > 1])\n",
    "print(conv_num_outliers, roi_num_outliers, dm1_num_outliers, dm2_num_outliers)"
   ],
   "metadata": {
    "collapsed": false,
    "ExecuteTime": {
     "end_time": "2025-05-08T15:14:55.292316200Z",
     "start_time": "2025-05-08T15:14:55.252316600Z"
    }
   },
   "id": "47ad42ba996d3447",
   "outputs": [
    {
     "name": "stdout",
     "output_type": "stream",
     "text": [
      "39 42 42 42\n"
     ]
    }
   ],
   "execution_count": 20
  },
  {
   "cell_type": "markdown",
   "source": [
    "## 2. Point Rate"
   ],
   "metadata": {
    "collapsed": false
   },
   "id": "1c05a82334dc02ab"
  },
  {
   "metadata": {
    "ExecuteTime": {
     "end_time": "2025-05-08T15:14:55.292316200Z",
     "start_time": "2025-05-08T15:14:55.268318800Z"
    }
   },
   "cell_type": "code",
   "source": [
    "# load the ground truth\n",
    "all_gt = pd.read_csv('./data/conversion/point_rate/frame_size_gt.csv').sum()['n_elements']\n",
    "filtered_gt = pd.read_csv('./data/roi/point_rate/frame_size_gt.csv').sum()['n_elements']\n",
    "bev_gt = pd.read_csv('./data/bev/point_rate/frame_size_gt.csv').sum()['n_elements']\n",
    "\n",
    "print(all_gt, filtered_gt, bev_gt)"
   ],
   "id": "aea4ebdbf434981f",
   "outputs": [
    {
     "name": "stdout",
     "output_type": "stream",
     "text": [
      "30381904 29031584 133378\n"
     ]
    }
   ],
   "execution_count": 21
  },
  {
   "metadata": {
    "collapsed": false,
    "ExecuteTime": {
     "end_time": "2025-05-08T15:14:55.353839200Z",
     "start_time": "2025-05-08T15:14:55.281317700Z"
    }
   },
   "cell_type": "code",
   "source": [
    "# overview\n",
    "total_elem = []\n",
    "cols = ['Pipeline', 'GT', '8Mbps', '16Mbps', '32Mbps', '64Mbps', '128Mbps']\n",
    "for p in ['conversion', 'roi', 'dm1', 'dm2', 'bev']:\n",
    "    gt = all_gt if p == 'conversion' else bev_gt if p == 'bev' else filtered_gt\n",
    "    log = [p, gt]\n",
    "    for t in [8, 16, 32, 64, 128]:\n",
    "        df = load_frame_size_data(pipeline=p, throughput=t)\n",
    "        total = df.sum()['n_elements']\n",
    "        log.append(total)\n",
    "    total_elem.append(log)\n",
    "\n",
    "df_res = pd.DataFrame(np.array(total_elem), columns=cols)\n",
    "df_res.to_csv(os.path.join(OUT_DIR, 'throughput_overview.csv'), index=False)\n",
    "print(df_res)"
   ],
   "id": "178e2dc0ba1c6b23",
   "outputs": [
    {
     "name": "stdout",
     "output_type": "stream",
     "text": [
      "     Pipeline        GT     8Mbps    16Mbps    32Mbps    64Mbps   128Mbps\n",
      "0  conversion  30381904  30381904  30381904  30381904  30371152  30381904\n",
      "1         roi  29031584  29031573  29031573  29030424  29006738  29026604\n",
      "2         dm1  29031584  29031573  29031573  29031573  29031573  29031190\n",
      "3         dm2  29031584  29031573  29031573  28965945  29031573  29031573\n",
      "4         bev    133378    139197    139197    139197    139197    139196\n"
     ]
    }
   ],
   "execution_count": 22
  },
  {
   "metadata": {},
   "cell_type": "markdown",
   "source": [
    "## 3. Precision"
   ],
   "id": "5147883365a3f27c"
  },
  {
   "metadata": {
    "ExecuteTime": {
     "end_time": "2025-05-08T15:14:55.354847Z",
     "start_time": "2025-05-08T15:14:55.330325700Z"
    }
   },
   "cell_type": "code",
   "source": [
    "# Pipeline 1: RoI\n"
   ],
   "id": "674745bfc936d431",
   "outputs": [],
   "execution_count": 23
  },
  {
   "metadata": {
    "ExecuteTime": {
     "end_time": "2025-05-08T15:14:55.370841900Z",
     "start_time": "2025-05-08T15:14:55.345841500Z"
    }
   },
   "cell_type": "code",
   "source": [
    "# --- visualize --- #\n",
    "# ToDo\n",
    "\n"
   ],
   "id": "f3a645306f3791de",
   "outputs": [],
   "execution_count": 24
  },
  {
   "metadata": {
    "ExecuteTime": {
     "end_time": "2025-05-08T15:14:55.406526400Z",
     "start_time": "2025-05-08T15:14:55.361840300Z"
    }
   },
   "cell_type": "code",
   "source": [
    "# Pipeline 2: BEV - max(z)\n"
   ],
   "id": "2a6213336a1e1399",
   "outputs": [],
   "execution_count": 25
  },
  {
   "metadata": {
    "ExecuteTime": {
     "end_time": "2025-05-08T15:14:55.418522600Z",
     "start_time": "2025-05-08T15:14:55.377840800Z"
    }
   },
   "cell_type": "code",
   "source": [
    "# --- visualize --- #\n",
    "gt_img = Image.open('./figures/precision/bev/000080/ground_truth.png')\n",
    "pal_img = Image.open('./figures/precision/bev/000080/palicus.png')\n",
    "diff = ImageChops.difference(gt_img, pal_img)\n",
    "diff.save('./figures/precision/bev/000080/delta.png')\n",
    "\n",
    "display(gt_img)\n",
    "display(pal_img)\n",
    "display(diff)"
   ],
   "id": "82530b67fb49301e",
   "outputs": [
    {
     "data": {
      "text/plain": "<PIL.PngImagePlugin.PngImageFile image mode=L size=30x30>",
      "image/png": "[encoded data removed]",
      "image/jpeg": "[encoded data removed]"
     },
     "metadata": {},
     "output_type": "display_data"
    },
    {
     "data": {
      "text/plain": "<PIL.PngImagePlugin.PngImageFile image mode=L size=31x30>",
      "image/png": "[encoded data removed]",
      "image/jpeg": "[encoded data removed]"
     },
     "metadata": {},
     "output_type": "display_data"
    },
    {
     "data": {
      "text/plain": "<PIL.Image.Image image mode=L size=30x30>",
      "image/png": "[encoded data removed]",
      "image/jpeg": "[encoded data removed]"
     },
     "metadata": {},
     "output_type": "display_data"
    }
   ],
   "execution_count": 26
  },
  {
   "metadata": {
    "ExecuteTime": {
     "end_time": "2025-05-08T15:14:55.419522300Z",
     "start_time": "2025-05-08T15:14:55.393523400Z"
    }
   },
   "cell_type": "code",
   "source": [
    "# Pipeline 3: BEV - mean(i)"
   ],
   "id": "eb91e7772828e05b",
   "outputs": [],
   "execution_count": 27
  },
  {
   "metadata": {
    "ExecuteTime": {
     "end_time": "2025-05-08T15:14:55.434549800Z",
     "start_time": "2025-05-08T15:14:55.411521200Z"
    }
   },
   "cell_type": "code",
   "source": [
    "# --- visualize --- #\n",
    "gt_img = Image.open('./figures/precision/bev_mean/000522/ground_truth.png')\n",
    "pal_img = Image.open('./figures/precision/bev_mean/000522/palicus.png')\n",
    "diff = ImageChops.difference(gt_img, pal_img)\n",
    "diff.save('./figures/precision/bev_mean/000522/delta.png')\n",
    "\n",
    "display(gt_img)\n",
    "display(pal_img)\n",
    "display(diff)"
   ],
   "id": "f275acd8ce3b1022",
   "outputs": [
    {
     "data": {
      "text/plain": "<PIL.PngImagePlugin.PngImageFile image mode=L size=30x30>",
      "image/png": "[encoded data removed]",
      "image/jpeg": "[encoded data removed]"
     },
     "metadata": {},
     "output_type": "display_data"
    },
    {
     "data": {
      "text/plain": "<PIL.PngImagePlugin.PngImageFile image mode=L size=31x30>",
      "image/png": "[encoded data removed]",
      "image/jpeg": "[encoded data removed]"
     },
     "metadata": {},
     "output_type": "display_data"
    },
    {
     "data": {
      "text/plain": "<PIL.Image.Image image mode=L size=30x30>",
      "image/png": "[encoded data removed]",
      "image/jpeg": "[encoded data removed]"
     },
     "metadata": {},
     "output_type": "display_data"
    }
   ],
   "execution_count": 28
  }
 ],
 "metadata": {
  "kernelspec": {
   "display_name": "Python 3",
   "language": "python",
   "name": "python3"
  },
  "language_info": {
   "codemirror_mode": {
    "name": "ipython",
    "version": 2
   },
   "file_extension": ".py",
   "mimetype": "text/x-python",
   "name": "python",
   "nbconvert_exporter": "python",
   "pygments_lexer": "ipython2",
   "version": "2.7.6"
  }
 },
 "nbformat": 4,
 "nbformat_minor": 5
}
