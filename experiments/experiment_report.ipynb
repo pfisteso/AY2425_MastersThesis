{
 "cells": [
  {
   "cell_type": "markdown",
   "source": [
    "# Master's Thesis Experiments Report"
   ],
   "metadata": {
    "collapsed": false
   },
   "id": "60874c9d5a314cdb"
  },
  {
   "cell_type": "code",
   "id": "initial_id",
   "metadata": {
    "collapsed": true,
    "ExecuteTime": {
     "end_time": "2025-04-10T06:47:26.065209500Z",
     "start_time": "2025-04-10T06:47:23.887960400Z"
    }
   },
   "source": [
    "import os\n",
    "import numpy as np\n",
    "import pandas as pd\n",
    "from matplotlib import pyplot as plt\n",
    "from scripts.utils import load_latency_data, load_packet_data, clean_latency_data"
   ],
   "outputs": [],
   "execution_count": 1
  },
  {
   "cell_type": "code",
   "source": [
    "# constants\n",
    "LAST_FRAME = 526\n",
    "FIG_DIR = './figures/{}'"
   ],
   "metadata": {
    "collapsed": false,
    "ExecuteTime": {
     "end_time": "2025-04-10T06:47:28.045817600Z",
     "start_time": "2025-04-10T06:47:28.037237300Z"
    }
   },
   "id": "81d2196f215380c6",
   "outputs": [],
   "execution_count": 2
  },
  {
   "cell_type": "markdown",
   "source": [],
   "metadata": {
    "collapsed": false
   },
   "id": "c3264cce401d769b"
  },
  {
   "cell_type": "markdown",
   "source": [
    "## 1.   Pipeline Latency\n",
    "The data was replayed at 8 Mbps.\n",
    "For each frame f, we measure the timedelta between the last emitted LiDAR data packet and\n",
    "the last incoming Palicus data packet containing data associated with f.\n",
    "We exclude the first and the last frame to ensure that we only consider the latency of full frames."
   ],
   "metadata": {
    "collapsed": false
   },
   "id": "7735df7de6c8bb2f"
  },
  {
   "cell_type": "code",
   "source": [
    "fig_dir = FIG_DIR.format('latency')\n",
    "if not os.path.exists(fig_dir):\n",
    "    os.makedirs(fig_dir)"
   ],
   "metadata": {
    "collapsed": false,
    "ExecuteTime": {
     "end_time": "2025-04-10T06:47:32.462684900Z",
     "start_time": "2025-04-10T06:47:32.453685400Z"
    }
   },
   "id": "45e382a0e3d6ab82",
   "outputs": [],
   "execution_count": 3
  },
  {
   "cell_type": "code",
   "source": [
    "# Load the data\n",
    "df_conversion = load_latency_data(max_frame=LAST_FRAME - 1)\n",
    "df_roi = load_latency_data(pipeline='roi', max_frame=LAST_FRAME - 1)\n",
    "df_dm1 = load_latency_data(pipeline='dm1', max_frame=LAST_FRAME - 1)\n",
    "df_dm2 = load_latency_data(pipeline='dm2', max_frame=LAST_FRAME - 1)\n",
    "df_bev = load_latency_data(pipeline='bev', max_frame=LAST_FRAME - 1)\n",
    "df_max = load_latency_data(pipeline='max', max_frame=LAST_FRAME - 1)"
   ],
   "metadata": {
    "collapsed": false,
    "ExecuteTime": {
     "end_time": "2025-04-10T06:50:10.656357400Z",
     "start_time": "2025-04-10T06:50:10.634459500Z"
    }
   },
   "id": "156ddd31632e48ba",
   "outputs": [],
   "execution_count": 6
  },
  {
   "cell_type": "code",
   "execution_count": 7,
   "outputs": [
    {
     "name": "stdout",
     "output_type": "stream",
     "text": [
      "                         CONV                 RoI               DM (1)  \\\n",
      "0     min                0.18               0.174                0.178   \n",
      "1    mean  0.2960838445807771  0.2920987654320988  0.29519753086419753   \n",
      "2  median               0.293               0.292                0.299   \n",
      "3     max               0.577               0.529                0.515   \n",
      "\n",
      "               DM (2)                BEV                MAX  \n",
      "0               0.176             46.422            141.214  \n",
      "1  0.3010329218106995  47.39483725490196  234.0225118790497  \n",
      "2              0.3045             47.702            234.813  \n",
      "3               0.513             48.073            236.362  \n"
     ]
    }
   ],
   "source": [
    "# tabular representation\n",
    "l = 'latency [ms]'\n",
    "# only consider frames if their latency is within (mean - 2*sd, mean + 2 * sd)\n",
    "df_conv_clean = clean_latency_data(df_conversion)\n",
    "df_roi_clean = clean_latency_data(df_roi)\n",
    "df_dm1_clean = clean_latency_data(df_dm1)\n",
    "df_dm2_clean = clean_latency_data(df_dm2)\n",
    "df_bev_clean = clean_latency_data(df_bev)\n",
    "df_max_clean = clean_latency_data(df_max)\n",
    "\n",
    "results = [['min', df_conv_clean.min()[l], df_roi_clean.min()[l], df_dm1_clean.min()[l], df_dm2_clean.min()[l], df_bev_clean.min()[l], df_max_clean.min()[l]],\n",
    "           ['mean', df_conv_clean.mean()[l], df_roi_clean.mean()[l], df_dm1_clean.mean()[l], df_dm2_clean.mean()[l], df_bev_clean.mean()[l], df_max_clean.mean()[l]],\n",
    "           ['median', df_conv_clean.median()[l], df_roi_clean.median()[l], df_dm1_clean.median()[l], df_dm2_clean.median()[l], df_bev_clean.median()[l], df_max_clean.median()[l]],\n",
    "           ['max', df_conv_clean.max()[l], df_roi_clean.max()[l], df_dm1_clean.max()[l], df_dm2_clean.max()[l], df_bev_clean.max()[l], df_max_clean.max()[l]]\n",
    "           ]\n",
    "\n",
    "df_latency_results = pd.DataFrame(np.array(results), columns=['', 'CONV', 'RoI', 'DM (1)', 'DM (2)', 'BEV', 'MAX'])\n",
    "print(df_latency_results)\n",
    "\n"
   ],
   "metadata": {
    "collapsed": false,
    "ExecuteTime": {
     "end_time": "2025-04-10T06:50:12.392020400Z",
     "start_time": "2025-04-10T06:50:12.328543900Z"
    }
   },
   "id": "7b266cd23e0d8087"
  },
  {
   "cell_type": "markdown",
   "source": [
    "### Filter and Arithmetic Processing Elements"
   ],
   "metadata": {
    "collapsed": false
   },
   "id": "c7f8a3234ddb78c3"
  },
  {
   "cell_type": "code",
   "source": [
    "# computation time: conversion vs. RoI vs. DepthMap\n",
    "fig, ax = plt.subplots()\n",
    "ax.boxplot(df_conversion['latency [ms]'].to_numpy(), positions=[2], widths=[1],\n",
    "           patch_artist=True, showmeans=True, showfliers=True, labels=['CONV'])\n",
    "ax.boxplot(df_roi['latency [ms]'].to_numpy(), positions=[4], widths=[1],\n",
    "           patch_artist=True, showmeans=True, showfliers=True, labels=['RoI'])\n",
    "ax.boxplot(df_dm1['latency [ms]'].to_numpy(), positions=[6], widths=[1],\n",
    "           patch_artist=True, showmeans=True, showfliers=True, labels=['DM (1)'])\n",
    "ax.boxplot(df_dm2['latency [ms]'].to_numpy(), positions=[8], widths=[1],\n",
    "           patch_artist=True, showmeans=True, showfliers=True, labels=['DM (2)'])\n",
    "ax.set(xlim=(0, 10))\n",
    "ax.set(ylim=(0, 2), yticks=[i / 10 for i in range(21)], ylabel='Latency [ms]')\n",
    "plt.show()\n",
    "fig.savefig(os.path.join(fig_dir, 'conv_roi_dm.png'))"
   ],
   "metadata": {
    "collapsed": false,
    "ExecuteTime": {
     "end_time": "2025-04-10T06:57:37.983558500Z",
     "start_time": "2025-04-10T06:57:37.815953900Z"
    }
   },
   "id": "301099a43661c737",
   "outputs": [
    {
     "name": "stderr",
     "output_type": "stream",
     "text": [
      "C:\\Users\\sophi\\AppData\\Local\\Temp\\ipykernel_18200\\3051513321.py:3: MatplotlibDeprecationWarning: The 'labels' parameter of boxplot() has been renamed 'tick_labels' since Matplotlib 3.9; support for the old name will be dropped in 3.11.\n",
      "  ax.boxplot(df_conversion['latency [ms]'].to_numpy(), positions=[2], widths=[1],\n",
      "C:\\Users\\sophi\\AppData\\Local\\Temp\\ipykernel_18200\\3051513321.py:5: MatplotlibDeprecationWarning: The 'labels' parameter of boxplot() has been renamed 'tick_labels' since Matplotlib 3.9; support for the old name will be dropped in 3.11.\n",
      "  ax.boxplot(df_roi['latency [ms]'].to_numpy(), positions=[4], widths=[1],\n",
      "C:\\Users\\sophi\\AppData\\Local\\Temp\\ipykernel_18200\\3051513321.py:7: MatplotlibDeprecationWarning: The 'labels' parameter of boxplot() has been renamed 'tick_labels' since Matplotlib 3.9; support for the old name will be dropped in 3.11.\n",
      "  ax.boxplot(df_dm1['latency [ms]'].to_numpy(), positions=[6], widths=[1],\n",
      "C:\\Users\\sophi\\AppData\\Local\\Temp\\ipykernel_18200\\3051513321.py:9: MatplotlibDeprecationWarning: The 'labels' parameter of boxplot() has been renamed 'tick_labels' since Matplotlib 3.9; support for the old name will be dropped in 3.11.\n",
      "  ax.boxplot(df_dm2['latency [ms]'].to_numpy(), positions=[8], widths=[1],\n"
     ]
    },
    {
     "data": {
      "text/plain": "<Figure size 640x480 with 1 Axes>",
      "image/png": "[encoded data removed]"
     },
     "metadata": {},
     "output_type": "display_data"
    }
   ],
   "execution_count": 9
  },
  {
   "cell_type": "code",
   "source": [
    "# computation time: conversion vs. RoI vs. DepthMap\n",
    "df_conversion['latency [us]'] = df_conversion['latency [ms]'] * 1000\n",
    "df_roi['latency [us]'] = df_roi['latency [ms]'] * 1000\n",
    "df_dm1['latency [us]'] = df_dm1['latency [ms]'] * 1000\n",
    "df_dm2['latency [us]'] = df_dm2['latency [ms]'] * 1000\n",
    "\n",
    "\n",
    "fig, ax = plt.subplots()\n",
    "ax.boxplot(df_conversion['latency [us]'].to_numpy(), positions=[2], widths=[1],\n",
    "           patch_artist=True, showmeans=False, showfliers=False, labels=['CONV'])\n",
    "ax.boxplot(df_roi['latency [us]'].to_numpy(), positions=[4], widths=[1],\n",
    "           patch_artist=True, showmeans=False, showfliers=False, labels=['RoI'])\n",
    "ax.boxplot(df_dm1['latency [us]'].to_numpy(), positions=[6], widths=[1],\n",
    "           patch_artist=True, showmeans=False, showfliers=False, labels=['DM (1)'])\n",
    "ax.boxplot(df_dm2['latency [us]'].to_numpy(), positions=[8], widths=[1],\n",
    "           patch_artist=True, showmeans=False, showfliers=False, labels=['DM (2)'])\n",
    "ax.set(xlim=(0, 10))\n",
    "ax.set(ylim=(250, 400), yticks=[250 + i * 50 for i in range(4)], ylabel='Latency [us]')\n",
    "plt.show()\n",
    "fig.savefig(os.path.join(fig_dir, 'conv_roi_dm_no_outliers.png'))"
   ],
   "metadata": {
    "collapsed": false,
    "ExecuteTime": {
     "end_time": "2025-04-10T06:57:41.151044200Z",
     "start_time": "2025-04-10T06:57:41.078132600Z"
    }
   },
   "id": "2c1510cfa56a574d",
   "outputs": [
    {
     "name": "stderr",
     "output_type": "stream",
     "text": [
      "C:\\Users\\sophi\\AppData\\Local\\Temp\\ipykernel_18200\\2135672299.py:9: MatplotlibDeprecationWarning: The 'labels' parameter of boxplot() has been renamed 'tick_labels' since Matplotlib 3.9; support for the old name will be dropped in 3.11.\n",
      "  ax.boxplot(df_conversion['latency [us]'].to_numpy(), positions=[2], widths=[1],\n",
      "C:\\Users\\sophi\\AppData\\Local\\Temp\\ipykernel_18200\\2135672299.py:11: MatplotlibDeprecationWarning: The 'labels' parameter of boxplot() has been renamed 'tick_labels' since Matplotlib 3.9; support for the old name will be dropped in 3.11.\n",
      "  ax.boxplot(df_roi['latency [us]'].to_numpy(), positions=[4], widths=[1],\n",
      "C:\\Users\\sophi\\AppData\\Local\\Temp\\ipykernel_18200\\2135672299.py:13: MatplotlibDeprecationWarning: The 'labels' parameter of boxplot() has been renamed 'tick_labels' since Matplotlib 3.9; support for the old name will be dropped in 3.11.\n",
      "  ax.boxplot(df_dm1['latency [us]'].to_numpy(), positions=[6], widths=[1],\n",
      "C:\\Users\\sophi\\AppData\\Local\\Temp\\ipykernel_18200\\2135672299.py:15: MatplotlibDeprecationWarning: The 'labels' parameter of boxplot() has been renamed 'tick_labels' since Matplotlib 3.9; support for the old name will be dropped in 3.11.\n",
      "  ax.boxplot(df_dm2['latency [us]'].to_numpy(), positions=[8], widths=[1],\n"
     ]
    },
    {
     "data": {
      "text/plain": "<Figure size 640x480 with 1 Axes>",
      "image/png": "[encoded data removed]"
     },
     "metadata": {},
     "output_type": "display_data"
    }
   ],
   "execution_count": 10
  },
  {
   "metadata": {},
   "cell_type": "markdown",
   "source": "### Aggregation Processing Element",
   "id": "68dc853a94d6bbed"
  },
  {
   "cell_type": "code",
   "source": [
    "# computation time: BEV vs. MAX\n",
    "fig, ax = plt.subplots()\n",
    "ax.boxplot(df_bev['latency [ms]'].to_numpy(), positions=[2], widths=[1],\n",
    "           patch_artist=True, showmeans=False, showfliers=True, labels=['BEV'])\n",
    "ax.boxplot(df_max['latency [ms]'].to_numpy(), positions=[4], widths=[1],\n",
    "           patch_artist=True, showmeans=False, showfliers=True, labels=['MAX'])\n",
    "ax.set(xlim=(0, 6))\n",
    "ax.set(ylim=(45, 50), yticks=[45 + i for i in range(5)], ylabel='Latency [ms]')\n",
    "plt.show()\n",
    "fig.savefig(os.path.join(fig_dir, 'bev_max.png'))"
   ],
   "metadata": {
    "collapsed": false,
    "ExecuteTime": {
     "end_time": "2025-04-10T06:58:17.293226400Z",
     "start_time": "2025-04-10T06:58:17.143788100Z"
    }
   },
   "id": "435cf8911897609c",
   "outputs": [
    {
     "name": "stderr",
     "output_type": "stream",
     "text": [
      "C:\\Users\\sophi\\AppData\\Local\\Temp\\ipykernel_18200\\1291938689.py:3: MatplotlibDeprecationWarning: The 'labels' parameter of boxplot() has been renamed 'tick_labels' since Matplotlib 3.9; support for the old name will be dropped in 3.11.\n",
      "  ax.boxplot(df_bev['latency [ms]'].to_numpy(), positions=[2], widths=[1],\n",
      "C:\\Users\\sophi\\AppData\\Local\\Temp\\ipykernel_18200\\1291938689.py:5: MatplotlibDeprecationWarning: The 'labels' parameter of boxplot() has been renamed 'tick_labels' since Matplotlib 3.9; support for the old name will be dropped in 3.11.\n",
      "  ax.boxplot(df_max['latency [ms]'].to_numpy(), positions=[4], widths=[1],\n"
     ]
    },
    {
     "data": {
      "text/plain": "<Figure size 640x480 with 1 Axes>",
      "image/png": "[encoded data removed]"
     },
     "metadata": {},
     "output_type": "display_data"
    }
   ],
   "execution_count": 11
  },
  {
   "cell_type": "markdown",
   "source": [
    "## 2. Point Rate"
   ],
   "metadata": {
    "collapsed": false
   },
   "id": "1c05a82334dc02ab"
  },
  {
   "cell_type": "code",
   "source": [
    "# Conversion\n",
    "total_pkt = []\n",
    "for p in ['conversion', 'roi', 'dm1', 'dm2', 'bev', 'max']:\n",
    "    log = [p]\n",
    "    for t in ['8Mbps', '128Mbps']:\n",
    "        df = load_packet_data(throughput=t, pipeline=p, max_frame=LAST_FRAME-1)\n",
    "        packet_count = len(df)\n",
    "        log.append(packet_count)\n",
    "    total_pkt.append(log)\n",
    "\n",
    "df_res = pd.DataFrame(np.array(total_pkt), columns=['pipeline', '8Mbps', '128Mbps'])\n",
    "df_res['difference'] = df_res.apply(lambda row: int(row['8Mbps']) - int(row['128Mbps']), axis=1)\n",
    "\n",
    "print(df_res.head(10))"
   ],
   "metadata": {
    "collapsed": false,
    "ExecuteTime": {
     "end_time": "2025-04-09T14:28:48.079032Z",
     "start_time": "2025-04-09T14:28:47.681866Z"
    }
   },
   "id": "178e2dc0ba1c6b23",
   "outputs": [
    {
     "name": "stdout",
     "output_type": "stream",
     "text": [
      "     pipeline   8Mbps 128Mbps  difference\n",
      "0  conversion  237612  237615          -3\n",
      "1         roi  227063  227045          18\n",
      "2         dm1  227063  226994          69\n",
      "3         dm2  227063  227018          45\n",
      "4         bev    1558    1557           1\n",
      "5         max    1558    1558           0\n"
     ]
    }
   ],
   "execution_count": 65
  }
 ],
 "metadata": {
  "kernelspec": {
   "display_name": "Python 3",
   "language": "python",
   "name": "python3"
  },
  "language_info": {
   "codemirror_mode": {
    "name": "ipython",
    "version": 2
   },
   "file_extension": ".py",
   "mimetype": "text/x-python",
   "name": "python",
   "nbconvert_exporter": "python",
   "pygments_lexer": "ipython2",
   "version": "2.7.6"
  }
 },
 "nbformat": 4,
 "nbformat_minor": 5
}
