{
 "cells": [
  {
   "cell_type": "markdown",
   "source": [
    "# Master's Thesis Experiments Report"
   ],
   "metadata": {
    "collapsed": false
   },
   "id": "60874c9d5a314cdb"
  },
  {
   "cell_type": "code",
   "id": "initial_id",
   "metadata": {
    "collapsed": true,
    "ExecuteTime": {
     "end_time": "2025-04-16T11:58:46.760214300Z",
     "start_time": "2025-04-16T11:58:46.713607800Z"
    }
   },
   "source": [
    "import os\n",
    "import numpy as np\n",
    "import pandas as pd\n",
    "from matplotlib import pyplot as plt\n",
    "from scripts.utils import load_latency_data, load_frame_size_data, clean_latency_data"
   ],
   "outputs": [],
   "execution_count": 75
  },
  {
   "cell_type": "code",
   "source": [
    "# constants\n",
    "FIG_DIR = './figures/{}'"
   ],
   "metadata": {
    "collapsed": false,
    "ExecuteTime": {
     "end_time": "2025-04-16T11:58:46.802528500Z",
     "start_time": "2025-04-16T11:58:46.731215900Z"
    }
   },
   "id": "81d2196f215380c6",
   "outputs": [],
   "execution_count": 76
  },
  {
   "cell_type": "markdown",
   "source": [
    "## 1.   Pipeline Latency\n",
    "The data was replayed at 8 Mbps.\n",
    "For each frame f, we measure the timedelta between the last emitted LiDAR data packet and\n",
    "the last incoming Palicus data packet containing data associated with f.\n",
    "We exclude the first and the last frame to ensure that we only consider the latency of full frames."
   ],
   "metadata": {
    "collapsed": false
   },
   "id": "7735df7de6c8bb2f"
  },
  {
   "cell_type": "code",
   "source": [
    "fig_dir = FIG_DIR.format('latency')\n",
    "if not os.path.exists(fig_dir):\n",
    "    os.makedirs(fig_dir)"
   ],
   "metadata": {
    "collapsed": false,
    "ExecuteTime": {
     "end_time": "2025-04-16T11:58:46.822529500Z",
     "start_time": "2025-04-16T11:58:46.745213300Z"
    }
   },
   "id": "45e382a0e3d6ab82",
   "outputs": [],
   "execution_count": 77
  },
  {
   "cell_type": "code",
   "source": [
    "# Load the data\n",
    "df_conversion = load_latency_data(pipeline='conversion')\n",
    "df_roi = load_latency_data(pipeline='roi')\n",
    "df_dm1 = load_latency_data(pipeline='dm1')\n",
    "df_dm2 = load_latency_data(pipeline='dm2')\n",
    "df_bev = load_latency_data(pipeline='bev')\n",
    "df_max = load_latency_data(pipeline='max')"
   ],
   "metadata": {
    "collapsed": false,
    "ExecuteTime": {
     "end_time": "2025-04-16T11:58:46.822529500Z",
     "start_time": "2025-04-16T11:58:46.763217300Z"
    }
   },
   "id": "156ddd31632e48ba",
   "outputs": [],
   "execution_count": 78
  },
  {
   "cell_type": "code",
   "source": [
    "# tabular representation\n",
    "l = 'latency [ms]'\n",
    "\n",
    "results = [['min', df_conversion.min()[l], df_roi.min()[l], df_dm1.min()[l], df_dm2.min()[l], df_bev.min()[l],\n",
    "            df_max.min()[l]],\n",
    "           ['mean', df_conversion.mean()[l], df_roi.mean()[l], df_dm1.mean()[l], df_dm2.mean()[l], df_bev.mean()[l],\n",
    "            df_max.mean()[l]],\n",
    "           ['median', df_conversion.median()[l], df_roi.median()[l], df_dm1.median()[l], df_dm2.median()[l],\n",
    "            df_bev.median()[l], df_max.median()[l]],\n",
    "           ['max', df_conversion.max()[l], df_roi.max()[l], df_dm1.max()[l], df_dm2.max()[l], df_bev.max()[l],\n",
    "            df_max.max()[l]]\n",
    "           ]\n",
    "\n",
    "df_latency_results = pd.DataFrame(results, columns=['', 'CONV', 'RoI', 'DM (1)', 'DM (2)', 'BEV', 'MAX'])\n",
    "print(df_latency_results)\n"
   ],
   "metadata": {
    "collapsed": false,
    "ExecuteTime": {
     "end_time": "2025-04-16T11:58:46.823529Z",
     "start_time": "2025-04-16T11:58:46.779531800Z"
    }
   },
   "id": "7b266cd23e0d8087",
   "outputs": [
    {
     "name": "stdout",
     "output_type": "stream",
     "text": [
      "              CONV       RoI    DM (1)    DM (2)        BEV        MAX\n",
      "0     min  0.19040  0.186200  0.185200  0.193200   0.294200   0.297800\n",
      "1    mean  0.38236  0.387328  0.388334  0.389076  46.049722  46.049746\n",
      "2  median  0.30000  0.299800  0.300800  0.301400  47.708600  47.709400\n",
      "3     max  1.56920  1.606200  1.563400  1.576000  47.823800  47.828400\n"
     ]
    }
   ],
   "execution_count": 79
  },
  {
   "cell_type": "code",
   "source": [
    "# computation time: conversion vs. RoI vs. DepthMap\n",
    "df_conversion['CONV'] = df_conversion['latency [ms]'] * 1000\n",
    "df_roi['RoI'] = df_roi['latency [ms]'] * 1000\n",
    "df_dm1['DM (1)'] = df_dm1['latency [ms]'] * 1000\n",
    "df_dm2['DM (2)'] = df_dm2['latency [ms]'] * 1000\n",
    "\n",
    "fig, ax = plt.subplots()\n",
    "ax.boxplot(df_conversion['CONV'].to_numpy(), positions=[2], widths=[1],\n",
    "           patch_artist=True, showmeans=False, showfliers=False, labels=['CONV'], \n",
    "           boxprops={'facecolor': '#104E8B'}, medianprops={'color': 'white'})\n",
    "ax.boxplot(df_roi['RoI'].to_numpy(), positions=[4], widths=[1],\n",
    "           patch_artist=True, showmeans=False, showfliers=False, labels=['RoI'], \n",
    "           boxprops={'facecolor': '#1090FF'}, medianprops={'color': 'white'})\n",
    "ax.boxplot(df_dm1['DM (1)'].to_numpy(), positions=[6], widths=[1],\n",
    "           patch_artist=True, showmeans=False, showfliers=False, labels=['DM (1)'], \n",
    "           boxprops={'facecolor': '#1C86EE'}, medianprops={'color': 'white'})\n",
    "ax.boxplot(df_dm2['DM (2)'].to_numpy(), positions=[8], widths=[1],\n",
    "           patch_artist=True, showmeans=False, showfliers=False, labels=['DM (2)'], \n",
    "           boxprops={'facecolor': '#1874CD'}, medianprops={'color': 'white'})\n",
    "ax.set(xlim=(0, 10))\n",
    "ax.set(ylim=(250, 350), yticks=[250 + i * 50 for i in range(3)], ylabel='Latency [us]')\n",
    "plt.show()\n",
    "fig.savefig(os.path.join(fig_dir, 'conv_roi_dm.png'))"
   ],
   "metadata": {
    "collapsed": false,
    "ExecuteTime": {
     "end_time": "2025-04-16T12:06:15.704791500Z",
     "start_time": "2025-04-16T12:06:15.627683400Z"
    }
   },
   "id": "2c1510cfa56a574d",
   "outputs": [
    {
     "name": "stderr",
     "output_type": "stream",
     "text": [
      "C:\\Users\\sophi\\AppData\\Local\\Temp\\ipykernel_9852\\215460773.py:8: MatplotlibDeprecationWarning: The 'labels' parameter of boxplot() has been renamed 'tick_labels' since Matplotlib 3.9; support for the old name will be dropped in 3.11.\n",
      "  ax.boxplot(df_conversion['CONV'].to_numpy(), positions=[2], widths=[1],\n",
      "C:\\Users\\sophi\\AppData\\Local\\Temp\\ipykernel_9852\\215460773.py:11: MatplotlibDeprecationWarning: The 'labels' parameter of boxplot() has been renamed 'tick_labels' since Matplotlib 3.9; support for the old name will be dropped in 3.11.\n",
      "  ax.boxplot(df_roi['RoI'].to_numpy(), positions=[4], widths=[1],\n",
      "C:\\Users\\sophi\\AppData\\Local\\Temp\\ipykernel_9852\\215460773.py:14: MatplotlibDeprecationWarning: The 'labels' parameter of boxplot() has been renamed 'tick_labels' since Matplotlib 3.9; support for the old name will be dropped in 3.11.\n",
      "  ax.boxplot(df_dm1['DM (1)'].to_numpy(), positions=[6], widths=[1],\n",
      "C:\\Users\\sophi\\AppData\\Local\\Temp\\ipykernel_9852\\215460773.py:17: MatplotlibDeprecationWarning: The 'labels' parameter of boxplot() has been renamed 'tick_labels' since Matplotlib 3.9; support for the old name will be dropped in 3.11.\n",
      "  ax.boxplot(df_dm2['DM (2)'].to_numpy(), positions=[8], widths=[1],\n"
     ]
    },
    {
     "data": {
      "text/plain": "<Figure size 640x480 with 1 Axes>",
      "image/png": "[encoded data removed]"
     },
     "metadata": {},
     "output_type": "display_data"
    }
   ],
   "execution_count": 96
  },
  {
   "cell_type": "markdown",
   "source": [],
   "metadata": {
    "collapsed": false
   },
   "id": "c7f8a3234ddb78c3"
  },
  {
   "cell_type": "code",
   "source": [
    "# computation time: BEV vs. MAX\n",
    "fig, ax = plt.subplots()\n",
    "ax.boxplot(df_bev['latency [ms]'].to_numpy(), positions=[2], widths=[1],\n",
    "           patch_artist=True, showmeans=False, showfliers=False, labels=['BEV'], \n",
    "           boxprops={'facecolor': '#FF7F00'}, medianprops={'color': 'white'})\n",
    "ax.boxplot(df_max['latency [ms]'].to_numpy(), positions=[4], widths=[1],\n",
    "           patch_artist=True, showmeans=False, showfliers=False, labels=['MAX'], \n",
    "           boxprops={'facecolor': '#EE6A50'}, medianprops={'color': 'white'})\n",
    "ax.set(xlim=(0, 6))\n",
    "ax.set(ylabel='Latency [ms]')\n",
    "plt.show()\n",
    "fig.savefig(os.path.join(fig_dir, 'bev_max.png'))"
   ],
   "metadata": {
    "collapsed": false,
    "ExecuteTime": {
     "end_time": "2025-04-16T12:05:52.249396600Z",
     "start_time": "2025-04-16T12:05:52.102919800Z"
    }
   },
   "id": "435cf8911897609c",
   "outputs": [
    {
     "name": "stderr",
     "output_type": "stream",
     "text": [
      "C:\\Users\\sophi\\AppData\\Local\\Temp\\ipykernel_9852\\3437492756.py:3: MatplotlibDeprecationWarning: The 'labels' parameter of boxplot() has been renamed 'tick_labels' since Matplotlib 3.9; support for the old name will be dropped in 3.11.\n",
      "  ax.boxplot(df_bev['latency [ms]'].to_numpy(), positions=[2], widths=[1],\n",
      "C:\\Users\\sophi\\AppData\\Local\\Temp\\ipykernel_9852\\3437492756.py:6: MatplotlibDeprecationWarning: The 'labels' parameter of boxplot() has been renamed 'tick_labels' since Matplotlib 3.9; support for the old name will be dropped in 3.11.\n",
      "  ax.boxplot(df_max['latency [ms]'].to_numpy(), positions=[4], widths=[1],\n"
     ]
    },
    {
     "data": {
      "text/plain": "<Figure size 640x480 with 1 Axes>",
      "image/png": "[encoded data removed]"
     },
     "metadata": {},
     "output_type": "display_data"
    }
   ],
   "execution_count": 95
  },
  {
   "cell_type": "markdown",
   "source": [
    "### Latency Impact of PEs"
   ],
   "metadata": {
    "collapsed": false
   },
   "id": "55c0904025687ba1"
  },
  {
   "cell_type": "code",
   "source": [
    "f = 'diff'\n",
    "BINS = [-160, -120, -80, -60, -50, -40, -30, -20, -10, 0, 10, 20, 30, 40, 50, 60, 80,\n",
    "        120, 160, 200, 260]\n",
    "\n",
    "# FPE - impact in [us]\n",
    "df_compare_fpe = pd.concat([df_conversion.loc[:, 'CONV'], df_roi.loc[:, 'RoI']], axis=1)\n",
    "df_compare_fpe[f] = df_compare_fpe['RoI'] - df_compare_fpe['CONV']\n",
    "\n",
    "res_table = [['FPE [us]', df_compare_fpe.min()[f], df_compare_fpe.mean()[f], df_compare_fpe.median()[f], df_compare_fpe.max()[f]]]\n",
    "\n",
    "df_compare_fpe = clean_latency_data(df_compare_fpe, col=f, factor=2)\n",
    "\n",
    "fpe_counts, fpe_bins = np.histogram(df_compare_fpe[f].to_numpy(), bins=BINS)\n",
    "fpe_counts = fpe_counts / np.sum(fpe_counts) * 100"
   ],
   "metadata": {
    "collapsed": false,
    "ExecuteTime": {
     "end_time": "2025-04-16T11:58:47.024838700Z",
     "start_time": "2025-04-16T11:58:46.951333400Z"
    }
   },
   "id": "8471fc8488a6d61c",
   "outputs": [],
   "execution_count": 82
  },
  {
   "cell_type": "code",
   "execution_count": 83,
   "outputs": [],
   "source": [
    "# ArPE - impact in [us]\n",
    "df_compare_1 = pd.concat([df_roi.loc[:, 'RoI'],\n",
    "                          df_dm1.loc[:, 'DM (1)']], axis=1)\n",
    "df_compare_1['diff'] = df_compare_1['DM (1)'] - df_compare_1['RoI']\n",
    "df_compare_1 = df_compare_1.loc[:, 'diff']\n",
    "\n",
    "df_compare_2 = pd.concat([df_dm1.loc[:, 'DM (1)'],\n",
    "                          df_dm2.loc[:, 'DM (2)']], axis=1)\n",
    "df_compare_2['diff'] = df_compare_2['DM (2)'] - df_compare_2['DM (1)']\n",
    "df_compare_2 = df_compare_2.loc[:, 'diff']\n",
    "\n",
    "df_compare_arpe = pd.DataFrame(pd.concat([df_compare_1, df_compare_2.rename('diff')], axis=0))\n",
    "\n",
    "res_table.append(['ArPE [us]', df_compare_arpe.min()[f], df_compare_arpe.mean()[f], df_compare_arpe.median()[f], df_compare_arpe.max()[f]])\n",
    "\n",
    "df_compare_arpe = clean_latency_data(df_compare_arpe, col=f, factor=2)\n",
    "arpe_counts, arpe_bins = np.histogram(df_compare_arpe[f].to_numpy(), bins=BINS)\n",
    "arpe_counts = arpe_counts / np.sum(arpe_counts) * 100\n",
    "\n",
    "\n"
   ],
   "metadata": {
    "collapsed": false,
    "ExecuteTime": {
     "end_time": "2025-04-16T11:58:47.032839100Z",
     "start_time": "2025-04-16T11:58:46.968344500Z"
    }
   },
   "id": "584c214306f12211"
  },
  {
   "cell_type": "code",
   "execution_count": 99,
   "outputs": [
    {
     "data": {
      "text/plain": "<Figure size 640x480 with 1 Axes>",
      "image/png": "[encoded data removed]"
     },
     "metadata": {},
     "output_type": "display_data"
    }
   ],
   "source": [
    "# visualize\n",
    "fig, ax = plt.subplots()\n",
    "ax.hist(BINS[:-1], BINS, weights=fpe_counts, label='FPE', color='#104E8B')\n",
    "ax.hist(BINS[:-1], BINS, weights=arpe_counts, label='ArPE', color='#FF7F00', alpha=0.7)\n",
    "ax.legend()\n",
    "ax.set(xlabel='Latency Impact [us]', \n",
    "       xticks=[-160, -120, -80, -40, 0, 40, 80, 120, 160, 200, 260])\n",
    "ax.set(ylabel='Frames [%]')\n",
    "plt.show()\n",
    "fig.savefig(os.path.join(fig_dir, 'fpe_arpe_impact.png'))"
   ],
   "metadata": {
    "collapsed": false,
    "ExecuteTime": {
     "end_time": "2025-04-16T12:09:47.696117100Z",
     "start_time": "2025-04-16T12:09:47.575423300Z"
    }
   },
   "id": "51d354c79ee52ee6"
  },
  {
   "cell_type": "code",
   "source": [
    "# AggPE - [ms]\n",
    "df_compare_aggpe = pd.concat([df_dm2.loc[:, 'latency [ms]'].rename('DM'),\n",
    "                              df_bev.loc[:, 'latency [ms]'].rename('BEV')], axis=1)\n",
    "df_compare_aggpe['diff'] = df_compare_aggpe['BEV'] - df_compare_aggpe['DM']\n",
    "res_table.append(['AggPE [ms]', df_compare_aggpe.min()[f], df_compare_aggpe.mean()[f], df_compare_aggpe.median()[f], df_compare_aggpe.max()[f]])\n",
    "\n",
    "df_compare_aggpe = clean_latency_data(df_compare_aggpe, col=f, factor=2)\n",
    "\n",
    "AGG_BINS = [46 + i / 10  for i in range(20)]\n",
    "aggpe_counts, aggpe_bins = np.histogram(df_compare_aggpe[f].to_numpy(), bins=AGG_BINS)\n",
    "aggpe_counts = aggpe_counts / np.sum(aggpe_counts) * 100\n",
    "\n",
    "fig, ax = plt.subplots()\n",
    "ax.hist(AGG_BINS[:-1], AGG_BINS, weights=aggpe_counts, label='AggPE', color='#228b22')\n",
    "ax.set(xlabel='Latency Impact [ms]',\n",
    "       xticks=[46, 46.5, 47, 47.5, 48])\n",
    "ax.set(ylabel='Frames [%]')\n",
    "ax.legend()\n",
    "plt.show()\n",
    "fig.savefig(os.path.join(fig_dir, 'aggpe_impact.png'))"
   ],
   "metadata": {
    "collapsed": false,
    "ExecuteTime": {
     "end_time": "2025-04-16T12:11:16.098717100Z",
     "start_time": "2025-04-16T12:11:15.972639700Z"
    }
   },
   "id": "d357403a64db8987",
   "outputs": [
    {
     "data": {
      "text/plain": "<Figure size 640x480 with 1 Axes>",
      "image/png": "[encoded data removed]"
     },
     "metadata": {},
     "output_type": "display_data"
    }
   ],
   "execution_count": 101
  },
  {
   "cell_type": "code",
   "source": [
    "# raw numbers\n",
    "df_res = pd.DataFrame(res_table, columns=['', 'min', 'median', 'mean', 'max'])\n",
    "print(df_res)\n"
   ],
   "metadata": {
    "collapsed": false,
    "ExecuteTime": {
     "end_time": "2025-04-16T11:58:47.266889Z",
     "start_time": "2025-04-16T11:58:47.247890400Z"
    }
   },
   "id": "1abce3678ca3a3e",
   "outputs": [
    {
     "name": "stdout",
     "output_type": "stream",
     "text": [
      "                     min     median     mean        max\n",
      "0    FPE [us] -1267.8000   4.967619  -0.2000  1209.4000\n",
      "1   ArPE [us]  -111.6000   0.874095   1.4000    83.6000\n",
      "2  AggPE [ms]    -0.0032  45.660645  47.4012    47.5678\n"
     ]
    }
   ],
   "execution_count": 86
  },
  {
   "metadata": {},
   "cell_type": "markdown",
   "source": [
    "#### Impact of FPE on Frame Size"
   ],
   "id": "6f59b698ab49ae11"
  },
  {
   "metadata": {
    "ExecuteTime": {
     "end_time": "2025-04-16T11:58:47.285402400Z",
     "start_time": "2025-04-16T11:58:47.264886Z"
    }
   },
   "cell_type": "code",
   "source": [
    "# Conversion\n",
    "conv_elements = load_frame_size_data(pipeline='conversion', experiment='latency')\n",
    "# RoI\n",
    "roi_elements = load_frame_size_data(pipeline='roi', experiment='latency')\n",
    "\n",
    "\n",
    "df_compare_elements = pd.concat([conv_elements.loc[:, 'n_elements'].rename('CONV'),\n",
    "                                roi_elements.loc[:, 'n_elements'].rename('RoI')], axis=1)\n",
    "df_compare_elements['ratio'] = df_compare_elements['RoI'] / df_compare_elements['CONV'] * 100\n",
    "\n",
    "print('mean\\t', df_compare_elements.mean()['ratio'])\n",
    "print('median\\t', df_compare_elements.median()['ratio'])\n"
   ],
   "id": "7ed139f0df015344",
   "outputs": [
    {
     "name": "stdout",
     "output_type": "stream",
     "text": [
      "mean\t 95.64292843017813\n",
      "median\t 95.5907771017699\n"
     ]
    }
   ],
   "execution_count": 87
  },
  {
   "cell_type": "code",
   "execution_count": 88,
   "outputs": [
    {
     "name": "stdout",
     "output_type": "stream",
     "text": [
      "36 39 39 39\n"
     ]
    }
   ],
   "source": [
    "# Number of outlier frames\n",
    "conv_num_outliers = len(df_conversion.loc[df_conversion['latency [ms]'] > 1])\n",
    "roi_num_outliers = len(df_roi.loc[df_roi['latency [ms]'] > 1])\n",
    "dm1_num_outliers = len(df_dm1.loc[df_dm1['latency [ms]'] > 1])\n",
    "dm2_num_outliers = len(df_dm2.loc[df_dm2['latency [ms]'] > 1])\n",
    "print(conv_num_outliers, roi_num_outliers, dm1_num_outliers, dm2_num_outliers)"
   ],
   "metadata": {
    "collapsed": false,
    "ExecuteTime": {
     "end_time": "2025-04-16T11:58:47.323399400Z",
     "start_time": "2025-04-16T11:58:47.282400200Z"
    }
   },
   "id": "47ad42ba996d3447"
  },
  {
   "cell_type": "markdown",
   "source": [
    "## 2. Point Rate"
   ],
   "metadata": {
    "collapsed": false
   },
   "id": "1c05a82334dc02ab"
  },
  {
   "cell_type": "code",
   "source": [
    "# Conversion\n",
    "total_elem = []\n",
    "cols = ['Pipeline', '8Mbps', '16Mbps', '32Mbps', '64Mbps']  # ToDo: 128\n",
    "for p in ['conversion', 'roi', 'dm1', 'dm2', 'bev', 'max']:\n",
    "    log = [p]\n",
    "    for t in [8, 16, 32, 64]:  # ToDo: 128\n",
    "        df = load_frame_size_data(pipeline=p)\n",
    "        total = df.loc[df['throughput'] == t]\n",
    "        total = total.loc[total['frame_nr'] == 'TOTAL', 'n_elements'].values[0]\n",
    "        # print(total)\n",
    "        log.append(total)\n",
    "    total_elem.append(log)\n",
    "\n",
    "df_res = pd.DataFrame(total_elem, columns=cols)\n",
    "\n",
    "print(df_res)"
   ],
   "metadata": {
    "collapsed": false,
    "ExecuteTime": {
     "end_time": "2025-04-16T11:58:47.376404Z",
     "start_time": "2025-04-16T11:58:47.294400100Z"
    }
   },
   "id": "178e2dc0ba1c6b23",
   "outputs": [
    {
     "name": "stdout",
     "output_type": "stream",
     "text": [
      "     Pipeline     8Mbps    16Mbps    32Mbps    64Mbps\n",
      "0  conversion  30458448  30459216  30459216  30459216\n",
      "1         roi  29103848  29103848  29103848  29103848\n",
      "2         dm1  29103848  29103080  29103848  29101935\n",
      "3         dm2  29103848  29103848  29102696  29103848\n",
      "4         bev    139468    139468    139468    139468\n",
      "5         max    139468    139468    139468    139468\n"
     ]
    }
   ],
   "execution_count": 89
  },
  {
   "metadata": {
    "ExecuteTime": {
     "end_time": "2025-04-16T11:58:47.416447300Z",
     "start_time": "2025-04-16T11:58:47.374402300Z"
    }
   },
   "cell_type": "code",
   "source": [],
   "id": "f0dc3dbe3b619c9d",
   "outputs": [],
   "execution_count": 89
  }
 ],
 "metadata": {
  "kernelspec": {
   "display_name": "Python 3",
   "language": "python",
   "name": "python3"
  },
  "language_info": {
   "codemirror_mode": {
    "name": "ipython",
    "version": 2
   },
   "file_extension": ".py",
   "mimetype": "text/x-python",
   "name": "python",
   "nbconvert_exporter": "python",
   "pygments_lexer": "ipython2",
   "version": "2.7.6"
  }
 },
 "nbformat": 4,
 "nbformat_minor": 5
}
